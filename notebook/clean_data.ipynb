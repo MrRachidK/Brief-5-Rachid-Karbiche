{
 "metadata": {
  "language_info": {
   "codemirror_mode": {
    "name": "ipython",
    "version": 3
   },
   "file_extension": ".py",
   "mimetype": "text/x-python",
   "name": "python",
   "nbconvert_exporter": "python",
   "pygments_lexer": "ipython3",
   "version": "3.8.5-final"
  },
  "orig_nbformat": 2,
  "kernelspec": {
   "name": "python3",
   "display_name": "Python 3.8.5 64-bit ('base': conda)",
   "metadata": {
    "interpreter": {
     "hash": "5b9c502b618e97131917a2f1409b4700bb639cdf99ce16cd88a0e27a90524386"
    }
   }
  }
 },
 "nbformat": 4,
 "nbformat_minor": 2,
 "cells": [
  {
   "source": [
    "## Importation des différentes librairies dont nous avons besoin et ouverture du fichier de données que nous allons étudier"
   ],
   "cell_type": "markdown",
   "metadata": {}
  },
  {
   "cell_type": "code",
   "execution_count": 380,
   "metadata": {},
   "outputs": [
    {
     "output_type": "stream",
     "name": "stdout",
     "text": [
      "Matplotlib Version: 3.3.2\nNumPy Version: 1.19.2\nPython Version: 3.8.5 (default, Sep  4 2020, 07:30:14) \n[GCC 7.3.0]\nSeaborn Version: 0.11.0\n"
     ]
    }
   ],
   "source": [
    "# Import of all the libraries useful for this file\n",
    "import numpy as np\n",
    "import pandas as pd\n",
    "import matplotlib as mpl\n",
    "import matplotlib.pylab as plt\n",
    "import seaborn as sns\n",
    "\n",
    "# Reading of the CSV file for the MVP\n",
    "MVP_food_data = pd.read_csv('/home/apprenant/Documents/Brief-5-Rachid-Karbiche-2/data/02_intermediate_data/MVP_openfoodfacts_data.csv', low_memory= False)\n",
    "\n",
    "# Print of the current versions of our libraries\n",
    "print('Matplotlib Version: ' + mpl.__version__)\n",
    "print('NumPy Version: ' + np.version.full_version)\n",
    "print('Python Version: ' + sys.version)\n",
    "print('Seaborn Version: ' + sns.__version__)"
   ]
  },
  {
   "cell_type": "code",
   "execution_count": 381,
   "metadata": {},
   "outputs": [
    {
     "output_type": "execute_result",
     "data": {
      "text/plain": [
       "           product_name     categories countries_en ingredients_text  \\\n",
       "0    Farine de blé noir            NaN       France              NaN   \n",
       "1   Naturablue original            NaN       France              NaN   \n",
       "2         Filet de bœuf  Filet de bœuf       France              NaN   \n",
       "3                   NaN            NaN       France              NaN   \n",
       "4  Naturakrill original            NaN       France              NaN   \n",
       "\n",
       "  nutrition_grade_fr pnns_groups_1  energy_100g  fat_100g  saturated-fat_100g  \\\n",
       "0                NaN           NaN          NaN       NaN                 NaN   \n",
       "1                NaN           NaN          NaN       NaN                 NaN   \n",
       "2                NaN       unknown          NaN       NaN                 NaN   \n",
       "3                NaN           NaN          NaN       NaN                 NaN   \n",
       "4                NaN           NaN          NaN       NaN                 NaN   \n",
       "\n",
       "   sugars_100g  fiber_100g  proteins_100g  salt_100g  sodium_100g  \\\n",
       "0          NaN         NaN            NaN        NaN          NaN   \n",
       "1          NaN         NaN            NaN        NaN          NaN   \n",
       "2          NaN         NaN            NaN        NaN          NaN   \n",
       "3          NaN         NaN            NaN        NaN          NaN   \n",
       "4          NaN         NaN            NaN        NaN          NaN   \n",
       "\n",
       "   fruits-vegetables-nuts_100g  nutrition-score-fr_100g  \n",
       "0                          NaN                      NaN  \n",
       "1                          NaN                      NaN  \n",
       "2                          NaN                      NaN  \n",
       "3                          NaN                      NaN  \n",
       "4                          NaN                      NaN  "
      ],
      "text/html": "<div>\n<style scoped>\n    .dataframe tbody tr th:only-of-type {\n        vertical-align: middle;\n    }\n\n    .dataframe tbody tr th {\n        vertical-align: top;\n    }\n\n    .dataframe thead th {\n        text-align: right;\n    }\n</style>\n<table border=\"1\" class=\"dataframe\">\n  <thead>\n    <tr style=\"text-align: right;\">\n      <th></th>\n      <th>product_name</th>\n      <th>categories</th>\n      <th>countries_en</th>\n      <th>ingredients_text</th>\n      <th>nutrition_grade_fr</th>\n      <th>pnns_groups_1</th>\n      <th>energy_100g</th>\n      <th>fat_100g</th>\n      <th>saturated-fat_100g</th>\n      <th>sugars_100g</th>\n      <th>fiber_100g</th>\n      <th>proteins_100g</th>\n      <th>salt_100g</th>\n      <th>sodium_100g</th>\n      <th>fruits-vegetables-nuts_100g</th>\n      <th>nutrition-score-fr_100g</th>\n    </tr>\n  </thead>\n  <tbody>\n    <tr>\n      <th>0</th>\n      <td>Farine de blé noir</td>\n      <td>NaN</td>\n      <td>France</td>\n      <td>NaN</td>\n      <td>NaN</td>\n      <td>NaN</td>\n      <td>NaN</td>\n      <td>NaN</td>\n      <td>NaN</td>\n      <td>NaN</td>\n      <td>NaN</td>\n      <td>NaN</td>\n      <td>NaN</td>\n      <td>NaN</td>\n      <td>NaN</td>\n      <td>NaN</td>\n    </tr>\n    <tr>\n      <th>1</th>\n      <td>Naturablue original</td>\n      <td>NaN</td>\n      <td>France</td>\n      <td>NaN</td>\n      <td>NaN</td>\n      <td>NaN</td>\n      <td>NaN</td>\n      <td>NaN</td>\n      <td>NaN</td>\n      <td>NaN</td>\n      <td>NaN</td>\n      <td>NaN</td>\n      <td>NaN</td>\n      <td>NaN</td>\n      <td>NaN</td>\n      <td>NaN</td>\n    </tr>\n    <tr>\n      <th>2</th>\n      <td>Filet de bœuf</td>\n      <td>Filet de bœuf</td>\n      <td>France</td>\n      <td>NaN</td>\n      <td>NaN</td>\n      <td>unknown</td>\n      <td>NaN</td>\n      <td>NaN</td>\n      <td>NaN</td>\n      <td>NaN</td>\n      <td>NaN</td>\n      <td>NaN</td>\n      <td>NaN</td>\n      <td>NaN</td>\n      <td>NaN</td>\n      <td>NaN</td>\n    </tr>\n    <tr>\n      <th>3</th>\n      <td>NaN</td>\n      <td>NaN</td>\n      <td>France</td>\n      <td>NaN</td>\n      <td>NaN</td>\n      <td>NaN</td>\n      <td>NaN</td>\n      <td>NaN</td>\n      <td>NaN</td>\n      <td>NaN</td>\n      <td>NaN</td>\n      <td>NaN</td>\n      <td>NaN</td>\n      <td>NaN</td>\n      <td>NaN</td>\n      <td>NaN</td>\n    </tr>\n    <tr>\n      <th>4</th>\n      <td>Naturakrill original</td>\n      <td>NaN</td>\n      <td>France</td>\n      <td>NaN</td>\n      <td>NaN</td>\n      <td>NaN</td>\n      <td>NaN</td>\n      <td>NaN</td>\n      <td>NaN</td>\n      <td>NaN</td>\n      <td>NaN</td>\n      <td>NaN</td>\n      <td>NaN</td>\n      <td>NaN</td>\n      <td>NaN</td>\n      <td>NaN</td>\n    </tr>\n  </tbody>\n</table>\n</div>"
     },
     "metadata": {},
     "execution_count": 381
    }
   ],
   "source": [
    "MVP_food_data.head()"
   ]
  },
  {
   "cell_type": "code",
   "execution_count": 382,
   "metadata": {},
   "outputs": [
    {
     "output_type": "execute_result",
     "data": {
      "text/plain": [
       "(129320, 16)"
      ]
     },
     "metadata": {},
     "execution_count": 382
    }
   ],
   "source": [
    "MVP_food_data.shape"
   ]
  },
  {
   "source": [
    "Pour le MVP, j'ai donc conservé 16 colonnes sur lesquels j'ai travaillé. Sans plus tarder, commençons par faire le data cleaning :"
   ],
   "cell_type": "markdown",
   "metadata": {}
  },
  {
   "source": [
    "## Recherche et traitement des doublons"
   ],
   "cell_type": "markdown",
   "metadata": {}
  },
  {
   "source": [
    "Recherchons d'abord les doublons parfaits :"
   ],
   "cell_type": "markdown",
   "metadata": {}
  },
  {
   "cell_type": "code",
   "execution_count": 383,
   "metadata": {},
   "outputs": [
    {
     "output_type": "stream",
     "name": "stdout",
     "text": [
      "       product_name                                     categories  \\\n32              NaN                                            NaN   \n39              NaN                                            NaN   \n46              NaN                                            NaN   \n49              NaN                                            NaN   \n50              NaN                                            NaN   \n...             ...                                            ...   \n129305          NaN  fr:Pâtes à tartiner aux noisettes et au cacao   \n129306          NaN  fr:Pâtes à tartiner aux noisettes et au cacao   \n129307          NaN  fr:Pâtes à tartiner aux noisettes et au cacao   \n129310          NaN  fr:Pâtes à tartiner aux noisettes et au cacao   \n129313     Poireaux                                            NaN   \n\n       countries_en ingredients_text nutrition_grade_fr  pnns_groups_1  \\\n32           France              NaN                NaN            NaN   \n39           France              NaN                NaN            NaN   \n46           France              NaN                NaN            NaN   \n49           France              NaN                NaN            NaN   \n50           France              NaN                NaN            NaN   \n...             ...              ...                ...            ...   \n129305       France              NaN                NaN  Sugary snacks   \n129306       France              NaN                NaN  Sugary snacks   \n129307       France              NaN                NaN  Sugary snacks   \n129310       France              NaN                NaN  Sugary snacks   \n129313       France              NaN                NaN            NaN   \n\n        energy_100g  fat_100g  saturated-fat_100g  sugars_100g  fiber_100g  \\\n32              NaN       NaN                 NaN          NaN         NaN   \n39              NaN       NaN                 NaN          NaN         NaN   \n46              NaN       NaN                 NaN          NaN         NaN   \n49              NaN       NaN                 NaN          NaN         NaN   \n50              NaN       NaN                 NaN          NaN         NaN   \n...             ...       ...                 ...          ...         ...   \n129305          NaN       NaN                 NaN          NaN         NaN   \n129306          NaN       NaN                 NaN          NaN         NaN   \n129307          NaN       NaN                 NaN          NaN         NaN   \n129310          NaN       NaN                 NaN          NaN         NaN   \n129313          NaN       NaN                 NaN          NaN         NaN   \n\n        proteins_100g  salt_100g  sodium_100g  fruits-vegetables-nuts_100g  \\\n32                NaN        NaN          NaN                          NaN   \n39                NaN        NaN          NaN                          NaN   \n46                NaN        NaN          NaN                          NaN   \n49                NaN        NaN          NaN                          NaN   \n50                NaN        NaN          NaN                          NaN   \n...               ...        ...          ...                          ...   \n129305            NaN        NaN          NaN                          NaN   \n129306            NaN        NaN          NaN                          NaN   \n129307            NaN        NaN          NaN                          NaN   \n129310            NaN        NaN          NaN                          NaN   \n129313            NaN        NaN          NaN                          NaN   \n\n        nutrition-score-fr_100g  \n32                          NaN  \n39                          NaN  \n46                          NaN  \n49                          NaN  \n50                          NaN  \n...                         ...  \n129305                      NaN  \n129306                      NaN  \n129307                      NaN  \n129310                      NaN  \n129313                      NaN  \n\n[6847 rows x 16 columns]\n"
     ]
    }
   ],
   "source": [
    "duplicateRowsDF = MVP_food_data[MVP_food_data.duplicated()]\n",
    "print(duplicateRowsDF)"
   ]
  },
  {
   "cell_type": "code",
   "execution_count": 384,
   "metadata": {},
   "outputs": [
    {
     "output_type": "execute_result",
     "data": {
      "text/plain": [
       "False    122473\n",
       "True       6847\n",
       "dtype: int64"
      ]
     },
     "metadata": {},
     "execution_count": 384
    }
   ],
   "source": [
    "MVP_food_data.duplicated().value_counts()"
   ]
  },
  {
   "source": [
    "On remarque donc qu'il y a 6 847 doublons parfaits dans notre database. Nous avons ici deux possibilités par rapport à la variable principale de notre database : product_name. La première est le fait que product_name est NaN, auquel cas les doublons ne nous permettront pas de l'identifier (on supprimera d'ailleurs les index contenant un product_name NaN). La second est le fait que product_name existe et qu'il n'est donc pas nécessaire de conserver les doublons. De plus, on pourra repérer plus facilement ces doublons en filtrant des colonnes telles que product_name, categories, ingredients_text et pnns_groups_1. Privilégions d'abord la second option en ne gardant qu'une occurrence de ces index."
   ],
   "cell_type": "markdown",
   "metadata": {}
  },
  {
   "cell_type": "code",
   "execution_count": 385,
   "metadata": {},
   "outputs": [
    {
     "output_type": "execute_result",
     "data": {
      "text/plain": [
       "                      product_name  \\\n",
       "0               Farine de blé noir   \n",
       "1              Naturablue original   \n",
       "2                    Filet de bœuf   \n",
       "3                              NaN   \n",
       "4             Naturakrill original   \n",
       "...                            ...   \n",
       "129315          Thé vert Earl grey   \n",
       "129316  Cheese cake thé vert, yuzu   \n",
       "129317              Rillette d'oie   \n",
       "129318               Biscottes bio   \n",
       "129319    Tomates aux Vermicelles    \n",
       "\n",
       "                                               categories countries_en  \\\n",
       "0                                                     NaN       France   \n",
       "1                                                     NaN       France   \n",
       "2                                           Filet de bœuf       France   \n",
       "3                                                     NaN       France   \n",
       "4                                                     NaN       France   \n",
       "...                                                   ...          ...   \n",
       "129315                                         thés verts       France   \n",
       "129316                                                NaN       France   \n",
       "129317  Viandes,Produits à tartiner,Charcuteries,Produ...       France   \n",
       "129318                                                NaN       France   \n",
       "129319                                                NaN       France   \n",
       "\n",
       "                                         ingredients_text nutrition_grade_fr  \\\n",
       "0                                                     NaN                NaN   \n",
       "1                                                     NaN                NaN   \n",
       "2                                                     NaN                NaN   \n",
       "3                                                     NaN                NaN   \n",
       "4                                                     NaN                NaN   \n",
       "...                                                   ...                ...   \n",
       "129315  thé vert, arôme naturel bergamote avec autres ...                NaN   \n",
       "129316                                                NaN                NaN   \n",
       "129317  viande d'oie, graisse de canard, épices, sel, ...                NaN   \n",
       "129318                                                NaN                NaN   \n",
       "129319                                                NaN                NaN   \n",
       "\n",
       "         pnns_groups_1  energy_100g  fat_100g  saturated-fat_100g  \\\n",
       "0                  NaN          NaN       NaN                 NaN   \n",
       "1                  NaN          NaN       NaN                 NaN   \n",
       "2              unknown          NaN       NaN                 NaN   \n",
       "3                  NaN          NaN       NaN                 NaN   \n",
       "4                  NaN          NaN       NaN                 NaN   \n",
       "...                ...          ...       ...                 ...   \n",
       "129315       Beverages         21.0       0.2                 0.2   \n",
       "129316             NaN          NaN       NaN                 NaN   \n",
       "129317  Fish Meat Eggs          NaN       NaN                 NaN   \n",
       "129318         unknown          NaN       NaN                 NaN   \n",
       "129319             NaN          NaN       NaN                 NaN   \n",
       "\n",
       "        sugars_100g  fiber_100g  proteins_100g  salt_100g  sodium_100g  \\\n",
       "0               NaN         NaN            NaN        NaN          NaN   \n",
       "1               NaN         NaN            NaN        NaN          NaN   \n",
       "2               NaN         NaN            NaN        NaN          NaN   \n",
       "3               NaN         NaN            NaN        NaN          NaN   \n",
       "4               NaN         NaN            NaN        NaN          NaN   \n",
       "...             ...         ...            ...        ...          ...   \n",
       "129315          0.5         0.2            0.5     0.0254         0.01   \n",
       "129316          NaN         NaN            NaN        NaN          NaN   \n",
       "129317          NaN         NaN            NaN        NaN          NaN   \n",
       "129318          NaN         NaN            NaN        NaN          NaN   \n",
       "129319          NaN         NaN            NaN        NaN          NaN   \n",
       "\n",
       "        fruits-vegetables-nuts_100g  nutrition-score-fr_100g  \n",
       "0                               NaN                      NaN  \n",
       "1                               NaN                      NaN  \n",
       "2                               NaN                      NaN  \n",
       "3                               NaN                      NaN  \n",
       "4                               NaN                      NaN  \n",
       "...                             ...                      ...  \n",
       "129315                          NaN                      NaN  \n",
       "129316                          NaN                      NaN  \n",
       "129317                          NaN                      NaN  \n",
       "129318                          NaN                      NaN  \n",
       "129319                          NaN                      NaN  \n",
       "\n",
       "[120731 rows x 16 columns]"
      ],
      "text/html": "<div>\n<style scoped>\n    .dataframe tbody tr th:only-of-type {\n        vertical-align: middle;\n    }\n\n    .dataframe tbody tr th {\n        vertical-align: top;\n    }\n\n    .dataframe thead th {\n        text-align: right;\n    }\n</style>\n<table border=\"1\" class=\"dataframe\">\n  <thead>\n    <tr style=\"text-align: right;\">\n      <th></th>\n      <th>product_name</th>\n      <th>categories</th>\n      <th>countries_en</th>\n      <th>ingredients_text</th>\n      <th>nutrition_grade_fr</th>\n      <th>pnns_groups_1</th>\n      <th>energy_100g</th>\n      <th>fat_100g</th>\n      <th>saturated-fat_100g</th>\n      <th>sugars_100g</th>\n      <th>fiber_100g</th>\n      <th>proteins_100g</th>\n      <th>salt_100g</th>\n      <th>sodium_100g</th>\n      <th>fruits-vegetables-nuts_100g</th>\n      <th>nutrition-score-fr_100g</th>\n    </tr>\n  </thead>\n  <tbody>\n    <tr>\n      <th>0</th>\n      <td>Farine de blé noir</td>\n      <td>NaN</td>\n      <td>France</td>\n      <td>NaN</td>\n      <td>NaN</td>\n      <td>NaN</td>\n      <td>NaN</td>\n      <td>NaN</td>\n      <td>NaN</td>\n      <td>NaN</td>\n      <td>NaN</td>\n      <td>NaN</td>\n      <td>NaN</td>\n      <td>NaN</td>\n      <td>NaN</td>\n      <td>NaN</td>\n    </tr>\n    <tr>\n      <th>1</th>\n      <td>Naturablue original</td>\n      <td>NaN</td>\n      <td>France</td>\n      <td>NaN</td>\n      <td>NaN</td>\n      <td>NaN</td>\n      <td>NaN</td>\n      <td>NaN</td>\n      <td>NaN</td>\n      <td>NaN</td>\n      <td>NaN</td>\n      <td>NaN</td>\n      <td>NaN</td>\n      <td>NaN</td>\n      <td>NaN</td>\n      <td>NaN</td>\n    </tr>\n    <tr>\n      <th>2</th>\n      <td>Filet de bœuf</td>\n      <td>Filet de bœuf</td>\n      <td>France</td>\n      <td>NaN</td>\n      <td>NaN</td>\n      <td>unknown</td>\n      <td>NaN</td>\n      <td>NaN</td>\n      <td>NaN</td>\n      <td>NaN</td>\n      <td>NaN</td>\n      <td>NaN</td>\n      <td>NaN</td>\n      <td>NaN</td>\n      <td>NaN</td>\n      <td>NaN</td>\n    </tr>\n    <tr>\n      <th>3</th>\n      <td>NaN</td>\n      <td>NaN</td>\n      <td>France</td>\n      <td>NaN</td>\n      <td>NaN</td>\n      <td>NaN</td>\n      <td>NaN</td>\n      <td>NaN</td>\n      <td>NaN</td>\n      <td>NaN</td>\n      <td>NaN</td>\n      <td>NaN</td>\n      <td>NaN</td>\n      <td>NaN</td>\n      <td>NaN</td>\n      <td>NaN</td>\n    </tr>\n    <tr>\n      <th>4</th>\n      <td>Naturakrill original</td>\n      <td>NaN</td>\n      <td>France</td>\n      <td>NaN</td>\n      <td>NaN</td>\n      <td>NaN</td>\n      <td>NaN</td>\n      <td>NaN</td>\n      <td>NaN</td>\n      <td>NaN</td>\n      <td>NaN</td>\n      <td>NaN</td>\n      <td>NaN</td>\n      <td>NaN</td>\n      <td>NaN</td>\n      <td>NaN</td>\n    </tr>\n    <tr>\n      <th>...</th>\n      <td>...</td>\n      <td>...</td>\n      <td>...</td>\n      <td>...</td>\n      <td>...</td>\n      <td>...</td>\n      <td>...</td>\n      <td>...</td>\n      <td>...</td>\n      <td>...</td>\n      <td>...</td>\n      <td>...</td>\n      <td>...</td>\n      <td>...</td>\n      <td>...</td>\n      <td>...</td>\n    </tr>\n    <tr>\n      <th>129315</th>\n      <td>Thé vert Earl grey</td>\n      <td>thés verts</td>\n      <td>France</td>\n      <td>thé vert, arôme naturel bergamote avec autres ...</td>\n      <td>NaN</td>\n      <td>Beverages</td>\n      <td>21.0</td>\n      <td>0.2</td>\n      <td>0.2</td>\n      <td>0.5</td>\n      <td>0.2</td>\n      <td>0.5</td>\n      <td>0.0254</td>\n      <td>0.01</td>\n      <td>NaN</td>\n      <td>NaN</td>\n    </tr>\n    <tr>\n      <th>129316</th>\n      <td>Cheese cake thé vert, yuzu</td>\n      <td>NaN</td>\n      <td>France</td>\n      <td>NaN</td>\n      <td>NaN</td>\n      <td>NaN</td>\n      <td>NaN</td>\n      <td>NaN</td>\n      <td>NaN</td>\n      <td>NaN</td>\n      <td>NaN</td>\n      <td>NaN</td>\n      <td>NaN</td>\n      <td>NaN</td>\n      <td>NaN</td>\n      <td>NaN</td>\n    </tr>\n    <tr>\n      <th>129317</th>\n      <td>Rillette d'oie</td>\n      <td>Viandes,Produits à tartiner,Charcuteries,Produ...</td>\n      <td>France</td>\n      <td>viande d'oie, graisse de canard, épices, sel, ...</td>\n      <td>NaN</td>\n      <td>Fish Meat Eggs</td>\n      <td>NaN</td>\n      <td>NaN</td>\n      <td>NaN</td>\n      <td>NaN</td>\n      <td>NaN</td>\n      <td>NaN</td>\n      <td>NaN</td>\n      <td>NaN</td>\n      <td>NaN</td>\n      <td>NaN</td>\n    </tr>\n    <tr>\n      <th>129318</th>\n      <td>Biscottes bio</td>\n      <td>NaN</td>\n      <td>France</td>\n      <td>NaN</td>\n      <td>NaN</td>\n      <td>unknown</td>\n      <td>NaN</td>\n      <td>NaN</td>\n      <td>NaN</td>\n      <td>NaN</td>\n      <td>NaN</td>\n      <td>NaN</td>\n      <td>NaN</td>\n      <td>NaN</td>\n      <td>NaN</td>\n      <td>NaN</td>\n    </tr>\n    <tr>\n      <th>129319</th>\n      <td>Tomates aux Vermicelles</td>\n      <td>NaN</td>\n      <td>France</td>\n      <td>NaN</td>\n      <td>NaN</td>\n      <td>NaN</td>\n      <td>NaN</td>\n      <td>NaN</td>\n      <td>NaN</td>\n      <td>NaN</td>\n      <td>NaN</td>\n      <td>NaN</td>\n      <td>NaN</td>\n      <td>NaN</td>\n      <td>NaN</td>\n      <td>NaN</td>\n    </tr>\n  </tbody>\n</table>\n<p>120731 rows × 16 columns</p>\n</div>"
     },
     "metadata": {},
     "execution_count": 385
    }
   ],
   "source": [
    "MVP_food_data.drop_duplicates(subset=['product_name', 'categories', 'ingredients_text', 'pnns_groups_1'])"
   ]
  },
  {
   "cell_type": "code",
   "execution_count": 386,
   "metadata": {},
   "outputs": [],
   "source": [
    "no_duplicates_MVP_data = MVP_food_data.drop_duplicates(subset=['product_name', 'categories', 'ingredients_text', 'pnns_groups_1'])"
   ]
  },
  {
   "source": [
    "## Traitement des valeurs manquantes"
   ],
   "cell_type": "markdown",
   "metadata": {}
  },
  {
   "source": [
    "Dans un premier temps, on va s'intéresser à product_name. Il s'agit de ne pas se précipiter en supprimant directement les index ne mentionnant aucun product_name. On sait en effet que categories ou pnns_groups_1 peuvent nous apporter des renseignements précieux afin de trouver le nom du produit."
   ],
   "cell_type": "markdown",
   "metadata": {}
  },
  {
   "cell_type": "code",
   "execution_count": 387,
   "metadata": {},
   "outputs": [
    {
     "output_type": "execute_result",
     "data": {
      "text/plain": [
       "False    120326\n",
       "True        405\n",
       "Name: product_name, dtype: int64"
      ]
     },
     "metadata": {},
     "execution_count": 387
    }
   ],
   "source": [
    "no_duplicates_MVP_data.product_name.isnull().value_counts()"
   ]
  },
  {
   "source": [
    "Nous avons 405 product_name inconnus. Eliminons déjà ceux qu'on ne peut pas du tout identifier :"
   ],
   "cell_type": "markdown",
   "metadata": {}
  },
  {
   "cell_type": "code",
   "execution_count": 388,
   "metadata": {},
   "outputs": [
    {
     "output_type": "execute_result",
     "data": {
      "text/plain": [
       "  product_name categories countries_en ingredients_text nutrition_grade_fr  \\\n",
       "3          NaN        NaN       France              NaN                NaN   \n",
       "\n",
       "  pnns_groups_1  energy_100g  fat_100g  saturated-fat_100g  sugars_100g  \\\n",
       "3           NaN          NaN       NaN                 NaN          NaN   \n",
       "\n",
       "   fiber_100g  proteins_100g  salt_100g  sodium_100g  \\\n",
       "3         NaN            NaN        NaN          NaN   \n",
       "\n",
       "   fruits-vegetables-nuts_100g  nutrition-score-fr_100g  \n",
       "3                          NaN                      NaN  "
      ],
      "text/html": "<div>\n<style scoped>\n    .dataframe tbody tr th:only-of-type {\n        vertical-align: middle;\n    }\n\n    .dataframe tbody tr th {\n        vertical-align: top;\n    }\n\n    .dataframe thead th {\n        text-align: right;\n    }\n</style>\n<table border=\"1\" class=\"dataframe\">\n  <thead>\n    <tr style=\"text-align: right;\">\n      <th></th>\n      <th>product_name</th>\n      <th>categories</th>\n      <th>countries_en</th>\n      <th>ingredients_text</th>\n      <th>nutrition_grade_fr</th>\n      <th>pnns_groups_1</th>\n      <th>energy_100g</th>\n      <th>fat_100g</th>\n      <th>saturated-fat_100g</th>\n      <th>sugars_100g</th>\n      <th>fiber_100g</th>\n      <th>proteins_100g</th>\n      <th>salt_100g</th>\n      <th>sodium_100g</th>\n      <th>fruits-vegetables-nuts_100g</th>\n      <th>nutrition-score-fr_100g</th>\n    </tr>\n  </thead>\n  <tbody>\n    <tr>\n      <th>3</th>\n      <td>NaN</td>\n      <td>NaN</td>\n      <td>France</td>\n      <td>NaN</td>\n      <td>NaN</td>\n      <td>NaN</td>\n      <td>NaN</td>\n      <td>NaN</td>\n      <td>NaN</td>\n      <td>NaN</td>\n      <td>NaN</td>\n      <td>NaN</td>\n      <td>NaN</td>\n      <td>NaN</td>\n      <td>NaN</td>\n      <td>NaN</td>\n    </tr>\n  </tbody>\n</table>\n</div>"
     },
     "metadata": {},
     "execution_count": 388
    }
   ],
   "source": [
    "no_duplicates_MVP_data.loc[(no_duplicates_MVP_data['product_name'].isnull()) & (no_duplicates_MVP_data['categories'].isnull()) & (no_duplicates_MVP_data['ingredients_text'].isnull()) & (no_duplicates_MVP_data['pnns_groups_1'].isnull())]"
   ]
  },
  {
   "source": [
    "Cette ligne n'a aucun renseignement. Supprimons-la !"
   ],
   "cell_type": "markdown",
   "metadata": {}
  },
  {
   "cell_type": "code",
   "execution_count": 389,
   "metadata": {},
   "outputs": [],
   "source": [
    "removed_product_MVP_data = no_duplicates_MVP_data.drop(no_duplicates_MVP_data.index[3])"
   ]
  },
  {
   "cell_type": "code",
   "execution_count": 390,
   "metadata": {},
   "outputs": [
    {
     "output_type": "execute_result",
     "data": {
      "text/plain": [
       "False    120326\n",
       "True        404\n",
       "Name: product_name, dtype: int64"
      ]
     },
     "metadata": {},
     "execution_count": 390
    }
   ],
   "source": [
    "removed_product_MVP_data.product_name.isnull().value_counts()"
   ]
  },
  {
   "source": [
    "Poursuivons maintenant en vérifiant si un product_name inconnu a une catégorie :"
   ],
   "cell_type": "markdown",
   "metadata": {}
  },
  {
   "cell_type": "code",
   "execution_count": 391,
   "metadata": {},
   "outputs": [
    {
     "output_type": "execute_result",
     "data": {
      "text/plain": [
       "       product_name                                         categories  \\\n",
       "22              NaN                                             Sauces   \n",
       "41              NaN                                   Crème de marrons   \n",
       "96              NaN                                             Lagers   \n",
       "131             NaN                           it:Aglianico del Vulture   \n",
       "135             NaN  sandwich,sandwich au jambon,sandwich au jambon...   \n",
       "...             ...                                                ...   \n",
       "127798          NaN                                     sucre d'érable   \n",
       "127913          NaN                                            Noodles   \n",
       "127921          NaN  Plant-based foods and beverages,Plant-based fo...   \n",
       "128265          NaN                                  Biscuit asiatique   \n",
       "128892          NaN                       Tomatoes and tomato products   \n",
       "\n",
       "       countries_en ingredients_text nutrition_grade_fr  \\\n",
       "22           France              NaN                  d   \n",
       "41           France              NaN                NaN   \n",
       "96           France              NaN                NaN   \n",
       "131          France              NaN                NaN   \n",
       "135          France              NaN                NaN   \n",
       "...             ...              ...                ...   \n",
       "127798       France              NaN                NaN   \n",
       "127913       France              NaN                  b   \n",
       "127921       France              NaN                NaN   \n",
       "128265       France              NaN                  a   \n",
       "128892       France              NaN                  c   \n",
       "\n",
       "                pnns_groups_1  energy_100g  fat_100g  saturated-fat_100g  \\\n",
       "22             Fat and sauces       1215.0    23.800                 1.8   \n",
       "41                    unknown          NaN       NaN                 NaN   \n",
       "96                        NaN          NaN       NaN                 NaN   \n",
       "131                       NaN          NaN       NaN                 NaN   \n",
       "135           Composite foods          NaN       NaN                 NaN   \n",
       "...                       ...          ...       ...                 ...   \n",
       "127798          Sugary snacks          NaN       NaN                 NaN   \n",
       "127913   Cereals and potatoes        585.0     0.300                 0.0   \n",
       "127921   Cereals and potatoes        551.0     0.455                 0.0   \n",
       "128265                unknown        930.0    13.000                 2.5   \n",
       "128892  Fruits and vegetables       1085.0    23.200                 3.8   \n",
       "\n",
       "        sugars_100g  fiber_100g  proteins_100g  salt_100g  sodium_100g  \\\n",
       "22             17.0         NaN           1.30       1.70     0.669291   \n",
       "41              NaN         NaN            NaN        NaN          NaN   \n",
       "96              NaN         NaN            NaN        NaN          NaN   \n",
       "131             NaN         NaN            NaN        NaN          NaN   \n",
       "135             NaN         NaN            NaN        NaN          NaN   \n",
       "...             ...         ...            ...        ...          ...   \n",
       "127798          NaN         NaN            NaN        NaN          NaN   \n",
       "127913          0.2         NaN           3.70       0.31     0.122047   \n",
       "127921          NaN        1.36           3.18       1.75     0.691000   \n",
       "128265         13.0        3.00           5.00       0.02     0.007874   \n",
       "128892          3.8         NaN           2.00       4.10     1.614173   \n",
       "\n",
       "        fruits-vegetables-nuts_100g  nutrition-score-fr_100g  \n",
       "22                              NaN                     14.0  \n",
       "41                              NaN                      NaN  \n",
       "96                              NaN                      NaN  \n",
       "131                             NaN                      NaN  \n",
       "135                             NaN                      NaN  \n",
       "...                             ...                      ...  \n",
       "127798                          NaN                      NaN  \n",
       "127913                          NaN                      0.0  \n",
       "127921                          NaN                      NaN  \n",
       "128265                          NaN                     -1.0  \n",
       "128892                          NaN                     10.0  \n",
       "\n",
       "[377 rows x 16 columns]"
      ],
      "text/html": "<div>\n<style scoped>\n    .dataframe tbody tr th:only-of-type {\n        vertical-align: middle;\n    }\n\n    .dataframe tbody tr th {\n        vertical-align: top;\n    }\n\n    .dataframe thead th {\n        text-align: right;\n    }\n</style>\n<table border=\"1\" class=\"dataframe\">\n  <thead>\n    <tr style=\"text-align: right;\">\n      <th></th>\n      <th>product_name</th>\n      <th>categories</th>\n      <th>countries_en</th>\n      <th>ingredients_text</th>\n      <th>nutrition_grade_fr</th>\n      <th>pnns_groups_1</th>\n      <th>energy_100g</th>\n      <th>fat_100g</th>\n      <th>saturated-fat_100g</th>\n      <th>sugars_100g</th>\n      <th>fiber_100g</th>\n      <th>proteins_100g</th>\n      <th>salt_100g</th>\n      <th>sodium_100g</th>\n      <th>fruits-vegetables-nuts_100g</th>\n      <th>nutrition-score-fr_100g</th>\n    </tr>\n  </thead>\n  <tbody>\n    <tr>\n      <th>22</th>\n      <td>NaN</td>\n      <td>Sauces</td>\n      <td>France</td>\n      <td>NaN</td>\n      <td>d</td>\n      <td>Fat and sauces</td>\n      <td>1215.0</td>\n      <td>23.800</td>\n      <td>1.8</td>\n      <td>17.0</td>\n      <td>NaN</td>\n      <td>1.30</td>\n      <td>1.70</td>\n      <td>0.669291</td>\n      <td>NaN</td>\n      <td>14.0</td>\n    </tr>\n    <tr>\n      <th>41</th>\n      <td>NaN</td>\n      <td>Crème de marrons</td>\n      <td>France</td>\n      <td>NaN</td>\n      <td>NaN</td>\n      <td>unknown</td>\n      <td>NaN</td>\n      <td>NaN</td>\n      <td>NaN</td>\n      <td>NaN</td>\n      <td>NaN</td>\n      <td>NaN</td>\n      <td>NaN</td>\n      <td>NaN</td>\n      <td>NaN</td>\n      <td>NaN</td>\n    </tr>\n    <tr>\n      <th>96</th>\n      <td>NaN</td>\n      <td>Lagers</td>\n      <td>France</td>\n      <td>NaN</td>\n      <td>NaN</td>\n      <td>NaN</td>\n      <td>NaN</td>\n      <td>NaN</td>\n      <td>NaN</td>\n      <td>NaN</td>\n      <td>NaN</td>\n      <td>NaN</td>\n      <td>NaN</td>\n      <td>NaN</td>\n      <td>NaN</td>\n      <td>NaN</td>\n    </tr>\n    <tr>\n      <th>131</th>\n      <td>NaN</td>\n      <td>it:Aglianico del Vulture</td>\n      <td>France</td>\n      <td>NaN</td>\n      <td>NaN</td>\n      <td>NaN</td>\n      <td>NaN</td>\n      <td>NaN</td>\n      <td>NaN</td>\n      <td>NaN</td>\n      <td>NaN</td>\n      <td>NaN</td>\n      <td>NaN</td>\n      <td>NaN</td>\n      <td>NaN</td>\n      <td>NaN</td>\n    </tr>\n    <tr>\n      <th>135</th>\n      <td>NaN</td>\n      <td>sandwich,sandwich au jambon,sandwich au jambon...</td>\n      <td>France</td>\n      <td>NaN</td>\n      <td>NaN</td>\n      <td>Composite foods</td>\n      <td>NaN</td>\n      <td>NaN</td>\n      <td>NaN</td>\n      <td>NaN</td>\n      <td>NaN</td>\n      <td>NaN</td>\n      <td>NaN</td>\n      <td>NaN</td>\n      <td>NaN</td>\n      <td>NaN</td>\n    </tr>\n    <tr>\n      <th>...</th>\n      <td>...</td>\n      <td>...</td>\n      <td>...</td>\n      <td>...</td>\n      <td>...</td>\n      <td>...</td>\n      <td>...</td>\n      <td>...</td>\n      <td>...</td>\n      <td>...</td>\n      <td>...</td>\n      <td>...</td>\n      <td>...</td>\n      <td>...</td>\n      <td>...</td>\n      <td>...</td>\n    </tr>\n    <tr>\n      <th>127798</th>\n      <td>NaN</td>\n      <td>sucre d'érable</td>\n      <td>France</td>\n      <td>NaN</td>\n      <td>NaN</td>\n      <td>Sugary snacks</td>\n      <td>NaN</td>\n      <td>NaN</td>\n      <td>NaN</td>\n      <td>NaN</td>\n      <td>NaN</td>\n      <td>NaN</td>\n      <td>NaN</td>\n      <td>NaN</td>\n      <td>NaN</td>\n      <td>NaN</td>\n    </tr>\n    <tr>\n      <th>127913</th>\n      <td>NaN</td>\n      <td>Noodles</td>\n      <td>France</td>\n      <td>NaN</td>\n      <td>b</td>\n      <td>Cereals and potatoes</td>\n      <td>585.0</td>\n      <td>0.300</td>\n      <td>0.0</td>\n      <td>0.2</td>\n      <td>NaN</td>\n      <td>3.70</td>\n      <td>0.31</td>\n      <td>0.122047</td>\n      <td>NaN</td>\n      <td>0.0</td>\n    </tr>\n    <tr>\n      <th>127921</th>\n      <td>NaN</td>\n      <td>Plant-based foods and beverages,Plant-based fo...</td>\n      <td>France</td>\n      <td>NaN</td>\n      <td>NaN</td>\n      <td>Cereals and potatoes</td>\n      <td>551.0</td>\n      <td>0.455</td>\n      <td>0.0</td>\n      <td>NaN</td>\n      <td>1.36</td>\n      <td>3.18</td>\n      <td>1.75</td>\n      <td>0.691000</td>\n      <td>NaN</td>\n      <td>NaN</td>\n    </tr>\n    <tr>\n      <th>128265</th>\n      <td>NaN</td>\n      <td>Biscuit asiatique</td>\n      <td>France</td>\n      <td>NaN</td>\n      <td>a</td>\n      <td>unknown</td>\n      <td>930.0</td>\n      <td>13.000</td>\n      <td>2.5</td>\n      <td>13.0</td>\n      <td>3.00</td>\n      <td>5.00</td>\n      <td>0.02</td>\n      <td>0.007874</td>\n      <td>NaN</td>\n      <td>-1.0</td>\n    </tr>\n    <tr>\n      <th>128892</th>\n      <td>NaN</td>\n      <td>Tomatoes and tomato products</td>\n      <td>France</td>\n      <td>NaN</td>\n      <td>c</td>\n      <td>Fruits and vegetables</td>\n      <td>1085.0</td>\n      <td>23.200</td>\n      <td>3.8</td>\n      <td>3.8</td>\n      <td>NaN</td>\n      <td>2.00</td>\n      <td>4.10</td>\n      <td>1.614173</td>\n      <td>NaN</td>\n      <td>10.0</td>\n    </tr>\n  </tbody>\n</table>\n<p>377 rows × 16 columns</p>\n</div>"
     },
     "metadata": {},
     "execution_count": 391
    }
   ],
   "source": [
    "removed_product_MVP_data.loc[(removed_product_MVP_data['product_name'].isnull()) & (removed_product_MVP_data['categories'].notnull())]"
   ]
  },
  {
   "source": [
    "Pour tous ces index, passons la valeur de categories à product_name :"
   ],
   "cell_type": "markdown",
   "metadata": {}
  },
  {
   "cell_type": "code",
   "execution_count": 392,
   "metadata": {},
   "outputs": [],
   "source": [
    "removed_product_MVP_data.loc[(removed_product_MVP_data['product_name'].isnull()) & (removed_product_MVP_data['categories'].notnull()), 'product_name'] = removed_product_MVP_data['categories']"
   ]
  },
  {
   "source": [
    "Vérifions :"
   ],
   "cell_type": "markdown",
   "metadata": {}
  },
  {
   "cell_type": "code",
   "execution_count": 393,
   "metadata": {},
   "outputs": [
    {
     "output_type": "execute_result",
     "data": {
      "text/plain": [
       "Empty DataFrame\n",
       "Columns: [product_name, categories, countries_en, ingredients_text, nutrition_grade_fr, pnns_groups_1, energy_100g, fat_100g, saturated-fat_100g, sugars_100g, fiber_100g, proteins_100g, salt_100g, sodium_100g, fruits-vegetables-nuts_100g, nutrition-score-fr_100g]\n",
       "Index: []"
      ],
      "text/html": "<div>\n<style scoped>\n    .dataframe tbody tr th:only-of-type {\n        vertical-align: middle;\n    }\n\n    .dataframe tbody tr th {\n        vertical-align: top;\n    }\n\n    .dataframe thead th {\n        text-align: right;\n    }\n</style>\n<table border=\"1\" class=\"dataframe\">\n  <thead>\n    <tr style=\"text-align: right;\">\n      <th></th>\n      <th>product_name</th>\n      <th>categories</th>\n      <th>countries_en</th>\n      <th>ingredients_text</th>\n      <th>nutrition_grade_fr</th>\n      <th>pnns_groups_1</th>\n      <th>energy_100g</th>\n      <th>fat_100g</th>\n      <th>saturated-fat_100g</th>\n      <th>sugars_100g</th>\n      <th>fiber_100g</th>\n      <th>proteins_100g</th>\n      <th>salt_100g</th>\n      <th>sodium_100g</th>\n      <th>fruits-vegetables-nuts_100g</th>\n      <th>nutrition-score-fr_100g</th>\n    </tr>\n  </thead>\n  <tbody>\n  </tbody>\n</table>\n</div>"
     },
     "metadata": {},
     "execution_count": 393
    }
   ],
   "source": [
    "removed_product_MVP_data.loc[(removed_product_MVP_data['product_name'].isnull()) & (removed_product_MVP_data['categories'].notnull())]"
   ]
  },
  {
   "source": [
    "C'est ok ! Maintenant, voyons les index de product_name inconnus ayant un pnns_groups_1 :"
   ],
   "cell_type": "markdown",
   "metadata": {}
  },
  {
   "cell_type": "code",
   "execution_count": 394,
   "metadata": {},
   "outputs": [
    {
     "output_type": "execute_result",
     "data": {
      "text/plain": [
       "       product_name categories countries_en  \\\n",
       "92              NaN        NaN       France   \n",
       "4629            NaN        NaN       France   \n",
       "5177            NaN        NaN       France   \n",
       "8826            NaN        NaN       France   \n",
       "9417            NaN        NaN       France   \n",
       "28370           NaN        NaN       France   \n",
       "34536           NaN        NaN       France   \n",
       "56672           NaN        NaN       France   \n",
       "62555           NaN        NaN       France   \n",
       "70700           NaN        NaN       France   \n",
       "78117           NaN        NaN       France   \n",
       "78118           NaN        NaN       France   \n",
       "81612           NaN        NaN       France   \n",
       "85305           NaN        NaN       France   \n",
       "89306           NaN        NaN       France   \n",
       "92218           NaN        NaN       France   \n",
       "92613           NaN        NaN       France   \n",
       "93184           NaN        NaN       France   \n",
       "96806           NaN        NaN       France   \n",
       "103813          NaN        NaN       France   \n",
       "106701          NaN        NaN       France   \n",
       "110606          NaN        NaN       France   \n",
       "112324          NaN        NaN       France   \n",
       "119308          NaN        NaN       France   \n",
       "121106          NaN        NaN       France   \n",
       "\n",
       "                                         ingredients_text nutrition_grade_fr  \\\n",
       "92                                                    NaN                NaN   \n",
       "4629    _Graines de sésame_ 34%, _cacahuètes_,  [???],...                NaN   \n",
       "5177    Farine de _blé_ 22%, eau, _œufs_ frais 16%, de...                NaN   \n",
       "8826    sel de mer, 15% poivre noir, 11% graines de _m...                NaN   \n",
       "9417                         café torréfié et moulu.                     NaN   \n",
       "28370   Eau - lentilles réhydratée 30% - saucisses fum...                  a   \n",
       "34536   _Lait_ entier 98%, protéines de _lait_, minéra...                  b   \n",
       "56672   Huile de colza*, _Œufs_ frais*, Ail*, Sel, Cur...                NaN   \n",
       "62555   Viande de porc - sel - dextrose - poivre noir ...                NaN   \n",
       "70700   fibre de chicorée ; maltodextrine ; légumes 21...                  d   \n",
       "78117                          100% café moulu Arabica.                  NaN   \n",
       "78118                                  100% café moulu.                  NaN   \n",
       "81612   Farine de _blé_ 35%, pépites de chocolat noir ...                  e   \n",
       "85305      Jambon de porc (Origine UE) 82%, eau,sel, d...                NaN   \n",
       "89306   fèves de cacao du Venezuela, sucre roux, beurr...                NaN   \n",
       "92218   Salade de carottes râpées au &quot;us de citro...                  c   \n",
       "92613   Farine de _blé_, sucre, _lait_, _œufs_ entiers...                NaN   \n",
       "93184   sucre, beurre de cacao, poudre de _lait_, _ama...                NaN   \n",
       "96806   Huile d'olive vierge extra extraite à froid, a...                NaN   \n",
       "103813                                                                   NaN   \n",
       "106701  Eau gazéifiée, sucre, sirop de glucose, acidif...                NaN   \n",
       "110606                                Graines de chanvre*                NaN   \n",
       "112324                                             coucou                NaN   \n",
       "119308  Farine de _blé_ ,raisins secs, _œufs_ frais, b...                  d   \n",
       "121106  Courgettes séchées* 48%, huile de tournesol* 2...                NaN   \n",
       "\n",
       "       pnns_groups_1  energy_100g  fat_100g  saturated-fat_100g  sugars_100g  \\\n",
       "92           unknown          NaN       NaN                 NaN          NaN   \n",
       "4629         unknown          NaN       NaN                 NaN          NaN   \n",
       "5177         unknown          NaN       NaN                 NaN          NaN   \n",
       "8826         unknown          NaN       NaN                 NaN          NaN   \n",
       "9417         unknown          NaN       NaN                 NaN          NaN   \n",
       "28370        unknown        464.0       5.1                 1.8          0.5   \n",
       "34536        unknown        251.0       3.5                 2.2          3.6   \n",
       "56672        unknown          NaN       NaN                 NaN          NaN   \n",
       "62555        unknown          NaN       NaN                 NaN          NaN   \n",
       "70700        unknown       1377.0       2.3                 0.7         11.0   \n",
       "78117        unknown          NaN       NaN                 NaN          NaN   \n",
       "78118        unknown          NaN       NaN                 NaN          NaN   \n",
       "81612        unknown       2112.0      26.0                 9.9         33.0   \n",
       "85305        unknown          NaN       NaN                 NaN          NaN   \n",
       "89306        unknown          NaN       NaN                 NaN          NaN   \n",
       "92218        unknown        502.0      11.0                 1.3          5.2   \n",
       "92613        unknown          NaN       NaN                 NaN          NaN   \n",
       "93184        unknown          NaN       NaN                 NaN          NaN   \n",
       "96806        unknown          NaN       NaN                 NaN          NaN   \n",
       "103813       unknown          NaN       NaN                 NaN          NaN   \n",
       "106701       unknown          NaN       NaN                 NaN          NaN   \n",
       "110606       unknown          NaN       NaN                 NaN          NaN   \n",
       "112324       unknown          NaN       NaN                 NaN          NaN   \n",
       "119308       unknown       1574.0      14.0                 8.9         32.0   \n",
       "121106       unknown          NaN       NaN                 NaN          NaN   \n",
       "\n",
       "        fiber_100g  proteins_100g  salt_100g  sodium_100g  \\\n",
       "92             NaN            NaN        NaN          NaN   \n",
       "4629           NaN            NaN        NaN          NaN   \n",
       "5177           NaN            NaN        NaN          NaN   \n",
       "8826           NaN            NaN        NaN          NaN   \n",
       "9417           NaN            NaN        NaN          NaN   \n",
       "28370         2.50            7.1       1.00     0.393701   \n",
       "34536          NaN            3.8       0.10     0.039370   \n",
       "56672          NaN            NaN        NaN          NaN   \n",
       "62555          NaN            NaN        NaN          NaN   \n",
       "70700        18.00           12.0       6.20     2.440945   \n",
       "78117          NaN            NaN        NaN          NaN   \n",
       "78118          NaN            NaN        NaN          NaN   \n",
       "81612         4.30            8.6       0.63     0.248031   \n",
       "85305          NaN            NaN        NaN          NaN   \n",
       "89306          NaN            NaN        NaN          NaN   \n",
       "92218         0.01            0.3       0.65     0.255906   \n",
       "92613          NaN            NaN        NaN          NaN   \n",
       "93184          NaN            NaN        NaN          NaN   \n",
       "96806          NaN            NaN        NaN          NaN   \n",
       "103813         NaN            NaN        NaN          NaN   \n",
       "106701         NaN            NaN        NaN          NaN   \n",
       "110606         NaN            NaN        NaN          NaN   \n",
       "112324         NaN            NaN        NaN          NaN   \n",
       "119308        2.20            6.9       0.46     0.181102   \n",
       "121106         NaN            NaN        NaN          NaN   \n",
       "\n",
       "        fruits-vegetables-nuts_100g  nutrition-score-fr_100g  \n",
       "92                              NaN                      NaN  \n",
       "4629                            NaN                      NaN  \n",
       "5177                            NaN                      NaN  \n",
       "8826                            NaN                      NaN  \n",
       "9417                            NaN                      NaN  \n",
       "28370                           NaN                     -1.0  \n",
       "34536                           NaN                      0.0  \n",
       "56672                           NaN                      NaN  \n",
       "62555                           NaN                      NaN  \n",
       "70700                           NaN                     11.0  \n",
       "78117                           NaN                      NaN  \n",
       "78118                           NaN                      NaN  \n",
       "81612                           NaN                     19.0  \n",
       "85305                           NaN                      NaN  \n",
       "89306                           NaN                      NaN  \n",
       "92218                           NaN                      5.0  \n",
       "92613                           NaN                      NaN  \n",
       "93184                           NaN                      NaN  \n",
       "96806                           NaN                      NaN  \n",
       "103813                          NaN                      NaN  \n",
       "106701                          NaN                      NaN  \n",
       "110606                          NaN                      NaN  \n",
       "112324                          NaN                      NaN  \n",
       "119308                          NaN                     18.0  \n",
       "121106                          NaN                      NaN  "
      ],
      "text/html": "<div>\n<style scoped>\n    .dataframe tbody tr th:only-of-type {\n        vertical-align: middle;\n    }\n\n    .dataframe tbody tr th {\n        vertical-align: top;\n    }\n\n    .dataframe thead th {\n        text-align: right;\n    }\n</style>\n<table border=\"1\" class=\"dataframe\">\n  <thead>\n    <tr style=\"text-align: right;\">\n      <th></th>\n      <th>product_name</th>\n      <th>categories</th>\n      <th>countries_en</th>\n      <th>ingredients_text</th>\n      <th>nutrition_grade_fr</th>\n      <th>pnns_groups_1</th>\n      <th>energy_100g</th>\n      <th>fat_100g</th>\n      <th>saturated-fat_100g</th>\n      <th>sugars_100g</th>\n      <th>fiber_100g</th>\n      <th>proteins_100g</th>\n      <th>salt_100g</th>\n      <th>sodium_100g</th>\n      <th>fruits-vegetables-nuts_100g</th>\n      <th>nutrition-score-fr_100g</th>\n    </tr>\n  </thead>\n  <tbody>\n    <tr>\n      <th>92</th>\n      <td>NaN</td>\n      <td>NaN</td>\n      <td>France</td>\n      <td>NaN</td>\n      <td>NaN</td>\n      <td>unknown</td>\n      <td>NaN</td>\n      <td>NaN</td>\n      <td>NaN</td>\n      <td>NaN</td>\n      <td>NaN</td>\n      <td>NaN</td>\n      <td>NaN</td>\n      <td>NaN</td>\n      <td>NaN</td>\n      <td>NaN</td>\n    </tr>\n    <tr>\n      <th>4629</th>\n      <td>NaN</td>\n      <td>NaN</td>\n      <td>France</td>\n      <td>_Graines de sésame_ 34%, _cacahuètes_,  [???],...</td>\n      <td>NaN</td>\n      <td>unknown</td>\n      <td>NaN</td>\n      <td>NaN</td>\n      <td>NaN</td>\n      <td>NaN</td>\n      <td>NaN</td>\n      <td>NaN</td>\n      <td>NaN</td>\n      <td>NaN</td>\n      <td>NaN</td>\n      <td>NaN</td>\n    </tr>\n    <tr>\n      <th>5177</th>\n      <td>NaN</td>\n      <td>NaN</td>\n      <td>France</td>\n      <td>Farine de _blé_ 22%, eau, _œufs_ frais 16%, de...</td>\n      <td>NaN</td>\n      <td>unknown</td>\n      <td>NaN</td>\n      <td>NaN</td>\n      <td>NaN</td>\n      <td>NaN</td>\n      <td>NaN</td>\n      <td>NaN</td>\n      <td>NaN</td>\n      <td>NaN</td>\n      <td>NaN</td>\n      <td>NaN</td>\n    </tr>\n    <tr>\n      <th>8826</th>\n      <td>NaN</td>\n      <td>NaN</td>\n      <td>France</td>\n      <td>sel de mer, 15% poivre noir, 11% graines de _m...</td>\n      <td>NaN</td>\n      <td>unknown</td>\n      <td>NaN</td>\n      <td>NaN</td>\n      <td>NaN</td>\n      <td>NaN</td>\n      <td>NaN</td>\n      <td>NaN</td>\n      <td>NaN</td>\n      <td>NaN</td>\n      <td>NaN</td>\n      <td>NaN</td>\n    </tr>\n    <tr>\n      <th>9417</th>\n      <td>NaN</td>\n      <td>NaN</td>\n      <td>France</td>\n      <td>café torréfié et moulu.</td>\n      <td>NaN</td>\n      <td>unknown</td>\n      <td>NaN</td>\n      <td>NaN</td>\n      <td>NaN</td>\n      <td>NaN</td>\n      <td>NaN</td>\n      <td>NaN</td>\n      <td>NaN</td>\n      <td>NaN</td>\n      <td>NaN</td>\n      <td>NaN</td>\n    </tr>\n    <tr>\n      <th>28370</th>\n      <td>NaN</td>\n      <td>NaN</td>\n      <td>France</td>\n      <td>Eau - lentilles réhydratée 30% - saucisses fum...</td>\n      <td>a</td>\n      <td>unknown</td>\n      <td>464.0</td>\n      <td>5.1</td>\n      <td>1.8</td>\n      <td>0.5</td>\n      <td>2.50</td>\n      <td>7.1</td>\n      <td>1.00</td>\n      <td>0.393701</td>\n      <td>NaN</td>\n      <td>-1.0</td>\n    </tr>\n    <tr>\n      <th>34536</th>\n      <td>NaN</td>\n      <td>NaN</td>\n      <td>France</td>\n      <td>_Lait_ entier 98%, protéines de _lait_, minéra...</td>\n      <td>b</td>\n      <td>unknown</td>\n      <td>251.0</td>\n      <td>3.5</td>\n      <td>2.2</td>\n      <td>3.6</td>\n      <td>NaN</td>\n      <td>3.8</td>\n      <td>0.10</td>\n      <td>0.039370</td>\n      <td>NaN</td>\n      <td>0.0</td>\n    </tr>\n    <tr>\n      <th>56672</th>\n      <td>NaN</td>\n      <td>NaN</td>\n      <td>France</td>\n      <td>Huile de colza*, _Œufs_ frais*, Ail*, Sel, Cur...</td>\n      <td>NaN</td>\n      <td>unknown</td>\n      <td>NaN</td>\n      <td>NaN</td>\n      <td>NaN</td>\n      <td>NaN</td>\n      <td>NaN</td>\n      <td>NaN</td>\n      <td>NaN</td>\n      <td>NaN</td>\n      <td>NaN</td>\n      <td>NaN</td>\n    </tr>\n    <tr>\n      <th>62555</th>\n      <td>NaN</td>\n      <td>NaN</td>\n      <td>France</td>\n      <td>Viande de porc - sel - dextrose - poivre noir ...</td>\n      <td>NaN</td>\n      <td>unknown</td>\n      <td>NaN</td>\n      <td>NaN</td>\n      <td>NaN</td>\n      <td>NaN</td>\n      <td>NaN</td>\n      <td>NaN</td>\n      <td>NaN</td>\n      <td>NaN</td>\n      <td>NaN</td>\n      <td>NaN</td>\n    </tr>\n    <tr>\n      <th>70700</th>\n      <td>NaN</td>\n      <td>NaN</td>\n      <td>France</td>\n      <td>fibre de chicorée ; maltodextrine ; légumes 21...</td>\n      <td>d</td>\n      <td>unknown</td>\n      <td>1377.0</td>\n      <td>2.3</td>\n      <td>0.7</td>\n      <td>11.0</td>\n      <td>18.00</td>\n      <td>12.0</td>\n      <td>6.20</td>\n      <td>2.440945</td>\n      <td>NaN</td>\n      <td>11.0</td>\n    </tr>\n    <tr>\n      <th>78117</th>\n      <td>NaN</td>\n      <td>NaN</td>\n      <td>France</td>\n      <td>100% café moulu Arabica.</td>\n      <td>NaN</td>\n      <td>unknown</td>\n      <td>NaN</td>\n      <td>NaN</td>\n      <td>NaN</td>\n      <td>NaN</td>\n      <td>NaN</td>\n      <td>NaN</td>\n      <td>NaN</td>\n      <td>NaN</td>\n      <td>NaN</td>\n      <td>NaN</td>\n    </tr>\n    <tr>\n      <th>78118</th>\n      <td>NaN</td>\n      <td>NaN</td>\n      <td>France</td>\n      <td>100% café moulu.</td>\n      <td>NaN</td>\n      <td>unknown</td>\n      <td>NaN</td>\n      <td>NaN</td>\n      <td>NaN</td>\n      <td>NaN</td>\n      <td>NaN</td>\n      <td>NaN</td>\n      <td>NaN</td>\n      <td>NaN</td>\n      <td>NaN</td>\n      <td>NaN</td>\n    </tr>\n    <tr>\n      <th>81612</th>\n      <td>NaN</td>\n      <td>NaN</td>\n      <td>France</td>\n      <td>Farine de _blé_ 35%, pépites de chocolat noir ...</td>\n      <td>e</td>\n      <td>unknown</td>\n      <td>2112.0</td>\n      <td>26.0</td>\n      <td>9.9</td>\n      <td>33.0</td>\n      <td>4.30</td>\n      <td>8.6</td>\n      <td>0.63</td>\n      <td>0.248031</td>\n      <td>NaN</td>\n      <td>19.0</td>\n    </tr>\n    <tr>\n      <th>85305</th>\n      <td>NaN</td>\n      <td>NaN</td>\n      <td>France</td>\n      <td>Jambon de porc (Origine UE) 82%, eau,sel, d...</td>\n      <td>NaN</td>\n      <td>unknown</td>\n      <td>NaN</td>\n      <td>NaN</td>\n      <td>NaN</td>\n      <td>NaN</td>\n      <td>NaN</td>\n      <td>NaN</td>\n      <td>NaN</td>\n      <td>NaN</td>\n      <td>NaN</td>\n      <td>NaN</td>\n    </tr>\n    <tr>\n      <th>89306</th>\n      <td>NaN</td>\n      <td>NaN</td>\n      <td>France</td>\n      <td>fèves de cacao du Venezuela, sucre roux, beurr...</td>\n      <td>NaN</td>\n      <td>unknown</td>\n      <td>NaN</td>\n      <td>NaN</td>\n      <td>NaN</td>\n      <td>NaN</td>\n      <td>NaN</td>\n      <td>NaN</td>\n      <td>NaN</td>\n      <td>NaN</td>\n      <td>NaN</td>\n      <td>NaN</td>\n    </tr>\n    <tr>\n      <th>92218</th>\n      <td>NaN</td>\n      <td>NaN</td>\n      <td>France</td>\n      <td>Salade de carottes râpées au &amp;quot;us de citro...</td>\n      <td>c</td>\n      <td>unknown</td>\n      <td>502.0</td>\n      <td>11.0</td>\n      <td>1.3</td>\n      <td>5.2</td>\n      <td>0.01</td>\n      <td>0.3</td>\n      <td>0.65</td>\n      <td>0.255906</td>\n      <td>NaN</td>\n      <td>5.0</td>\n    </tr>\n    <tr>\n      <th>92613</th>\n      <td>NaN</td>\n      <td>NaN</td>\n      <td>France</td>\n      <td>Farine de _blé_, sucre, _lait_, _œufs_ entiers...</td>\n      <td>NaN</td>\n      <td>unknown</td>\n      <td>NaN</td>\n      <td>NaN</td>\n      <td>NaN</td>\n      <td>NaN</td>\n      <td>NaN</td>\n      <td>NaN</td>\n      <td>NaN</td>\n      <td>NaN</td>\n      <td>NaN</td>\n      <td>NaN</td>\n    </tr>\n    <tr>\n      <th>93184</th>\n      <td>NaN</td>\n      <td>NaN</td>\n      <td>France</td>\n      <td>sucre, beurre de cacao, poudre de _lait_, _ama...</td>\n      <td>NaN</td>\n      <td>unknown</td>\n      <td>NaN</td>\n      <td>NaN</td>\n      <td>NaN</td>\n      <td>NaN</td>\n      <td>NaN</td>\n      <td>NaN</td>\n      <td>NaN</td>\n      <td>NaN</td>\n      <td>NaN</td>\n      <td>NaN</td>\n    </tr>\n    <tr>\n      <th>96806</th>\n      <td>NaN</td>\n      <td>NaN</td>\n      <td>France</td>\n      <td>Huile d'olive vierge extra extraite à froid, a...</td>\n      <td>NaN</td>\n      <td>unknown</td>\n      <td>NaN</td>\n      <td>NaN</td>\n      <td>NaN</td>\n      <td>NaN</td>\n      <td>NaN</td>\n      <td>NaN</td>\n      <td>NaN</td>\n      <td>NaN</td>\n      <td>NaN</td>\n      <td>NaN</td>\n    </tr>\n    <tr>\n      <th>103813</th>\n      <td>NaN</td>\n      <td>NaN</td>\n      <td>France</td>\n      <td></td>\n      <td>NaN</td>\n      <td>unknown</td>\n      <td>NaN</td>\n      <td>NaN</td>\n      <td>NaN</td>\n      <td>NaN</td>\n      <td>NaN</td>\n      <td>NaN</td>\n      <td>NaN</td>\n      <td>NaN</td>\n      <td>NaN</td>\n      <td>NaN</td>\n    </tr>\n    <tr>\n      <th>106701</th>\n      <td>NaN</td>\n      <td>NaN</td>\n      <td>France</td>\n      <td>Eau gazéifiée, sucre, sirop de glucose, acidif...</td>\n      <td>NaN</td>\n      <td>unknown</td>\n      <td>NaN</td>\n      <td>NaN</td>\n      <td>NaN</td>\n      <td>NaN</td>\n      <td>NaN</td>\n      <td>NaN</td>\n      <td>NaN</td>\n      <td>NaN</td>\n      <td>NaN</td>\n      <td>NaN</td>\n    </tr>\n    <tr>\n      <th>110606</th>\n      <td>NaN</td>\n      <td>NaN</td>\n      <td>France</td>\n      <td>Graines de chanvre*</td>\n      <td>NaN</td>\n      <td>unknown</td>\n      <td>NaN</td>\n      <td>NaN</td>\n      <td>NaN</td>\n      <td>NaN</td>\n      <td>NaN</td>\n      <td>NaN</td>\n      <td>NaN</td>\n      <td>NaN</td>\n      <td>NaN</td>\n      <td>NaN</td>\n    </tr>\n    <tr>\n      <th>112324</th>\n      <td>NaN</td>\n      <td>NaN</td>\n      <td>France</td>\n      <td>coucou</td>\n      <td>NaN</td>\n      <td>unknown</td>\n      <td>NaN</td>\n      <td>NaN</td>\n      <td>NaN</td>\n      <td>NaN</td>\n      <td>NaN</td>\n      <td>NaN</td>\n      <td>NaN</td>\n      <td>NaN</td>\n      <td>NaN</td>\n      <td>NaN</td>\n    </tr>\n    <tr>\n      <th>119308</th>\n      <td>NaN</td>\n      <td>NaN</td>\n      <td>France</td>\n      <td>Farine de _blé_ ,raisins secs, _œufs_ frais, b...</td>\n      <td>d</td>\n      <td>unknown</td>\n      <td>1574.0</td>\n      <td>14.0</td>\n      <td>8.9</td>\n      <td>32.0</td>\n      <td>2.20</td>\n      <td>6.9</td>\n      <td>0.46</td>\n      <td>0.181102</td>\n      <td>NaN</td>\n      <td>18.0</td>\n    </tr>\n    <tr>\n      <th>121106</th>\n      <td>NaN</td>\n      <td>NaN</td>\n      <td>France</td>\n      <td>Courgettes séchées* 48%, huile de tournesol* 2...</td>\n      <td>NaN</td>\n      <td>unknown</td>\n      <td>NaN</td>\n      <td>NaN</td>\n      <td>NaN</td>\n      <td>NaN</td>\n      <td>NaN</td>\n      <td>NaN</td>\n      <td>NaN</td>\n      <td>NaN</td>\n      <td>NaN</td>\n      <td>NaN</td>\n    </tr>\n  </tbody>\n</table>\n</div>"
     },
     "metadata": {},
     "execution_count": 394
    }
   ],
   "source": [
    "removed_product_MVP_data.loc[(removed_product_MVP_data['product_name'].isnull()) & (removed_product_MVP_data['pnns_groups_1'].notnull())]"
   ]
  },
  {
   "source": [
    "Ici, on constate que tous les pnns_groups_1 sont mentionnés comme étant inconnus. Par contre, on voit que les ingrédients sont mentionnés et qu'on pourrait compléter notre colonne product_name par cela. Cependant, cela créerait des product_name à rallonge. On ne va donc pas y toucher, d'autant plus qu'il n'y a que trop peu de données concernées."
   ],
   "cell_type": "markdown",
   "metadata": {}
  },
  {
   "cell_type": "code",
   "execution_count": 395,
   "metadata": {},
   "outputs": [],
   "source": [
    "removed_unknown_product_MVP_data = removed_product_MVP_data.dropna(subset=['product_name'])"
   ]
  },
  {
   "cell_type": "code",
   "execution_count": 396,
   "metadata": {},
   "outputs": [
    {
     "output_type": "execute_result",
     "data": {
      "text/plain": [
       "False    120703\n",
       "Name: product_name, dtype: int64"
      ]
     },
     "metadata": {},
     "execution_count": 396
    }
   ],
   "source": [
    "removed_unknown_product_MVP_data.product_name.isnull().value_counts()"
   ]
  },
  {
   "source": [
    "Pour la colonne categories, je préfère ne pas y toucher parce que donner un product_name à une categorie serait moins cohérent que l'inverse. De ce fait, on va remplacer les NaN par 'Not specified'"
   ],
   "cell_type": "markdown",
   "metadata": {}
  },
  {
   "cell_type": "code",
   "execution_count": 397,
   "metadata": {},
   "outputs": [
    {
     "output_type": "stream",
     "name": "stderr",
     "text": [
      "/home/apprenant/anaconda3/lib/python3.8/site-packages/pandas/core/indexing.py:1745: SettingWithCopyWarning: \nA value is trying to be set on a copy of a slice from a DataFrame.\nTry using .loc[row_indexer,col_indexer] = value instead\n\nSee the caveats in the documentation: https://pandas.pydata.org/pandas-docs/stable/user_guide/indexing.html#returning-a-view-versus-a-copy\n  isetter(ilocs[0], value)\n"
     ]
    }
   ],
   "source": [
    "removed_unknown_product_MVP_data.loc[removed_unknown_product_MVP_data['categories'].isnull(), 'categories'] = removed_unknown_product_MVP_data['categories'].fillna('Not specified')"
   ]
  },
  {
   "cell_type": "code",
   "execution_count": 398,
   "metadata": {},
   "outputs": [
    {
     "output_type": "execute_result",
     "data": {
      "text/plain": [
       "False    120703\n",
       "Name: categories, dtype: int64"
      ]
     },
     "metadata": {},
     "execution_count": 398
    }
   ],
   "source": [
    "removed_unknown_product_MVP_data.categories.isnull().value_counts()"
   ]
  },
  {
   "source": [
    "Idem par la colonne ingredients_text où l'on va remplacer les valeurs manquantes par 'Not specified'"
   ],
   "cell_type": "markdown",
   "metadata": {}
  },
  {
   "cell_type": "code",
   "execution_count": 399,
   "metadata": {},
   "outputs": [],
   "source": [
    "removed_unknown_product_MVP_data.loc[removed_unknown_product_MVP_data['ingredients_text'].isnull(), 'ingredients_text'] = removed_unknown_product_MVP_data['ingredients_text'].fillna('Not specified')"
   ]
  },
  {
   "cell_type": "code",
   "execution_count": 400,
   "metadata": {},
   "outputs": [
    {
     "output_type": "execute_result",
     "data": {
      "text/plain": [
       "False    120703\n",
       "Name: ingredients_text, dtype: int64"
      ]
     },
     "metadata": {},
     "execution_count": 400
    }
   ],
   "source": [
    "removed_unknown_product_MVP_data.ingredients_text.isnull().value_counts()"
   ]
  },
  {
   "source": [
    "Pareil pour la colonne pnns_groups_1"
   ],
   "cell_type": "markdown",
   "metadata": {}
  },
  {
   "cell_type": "code",
   "execution_count": 401,
   "metadata": {},
   "outputs": [],
   "source": [
    "removed_unknown_product_MVP_data.loc[removed_unknown_product_MVP_data['pnns_groups_1'].isnull(), 'pnns_groups_1'] = removed_unknown_product_MVP_data['pnns_groups_1'].fillna('Not specified')"
   ]
  },
  {
   "cell_type": "code",
   "execution_count": 402,
   "metadata": {},
   "outputs": [
    {
     "output_type": "execute_result",
     "data": {
      "text/plain": [
       "False    120703\n",
       "Name: pnns_groups_1, dtype: int64"
      ]
     },
     "metadata": {},
     "execution_count": 402
    }
   ],
   "source": [
    "removed_unknown_product_MVP_data.pnns_groups_1.isnull().value_counts()"
   ]
  },
  {
   "source": [
    "Maintenant, nous allons pouvoir nous intéresser aux valeurs nutritives de ces produits. On va faire un premier tri au niveau de nos index où il n'y a aucun renseignement sur les valeurs nutritives. On va donc supprimer toutes celles qui n'ont tout simplement aucune donnée chiffrée."
   ],
   "cell_type": "markdown",
   "metadata": {}
  },
  {
   "cell_type": "code",
   "execution_count": 403,
   "metadata": {},
   "outputs": [
    {
     "output_type": "execute_result",
     "data": {
      "text/plain": [
       "Index(['product_name', 'categories', 'countries_en', 'ingredients_text',\n",
       "       'nutrition_grade_fr', 'pnns_groups_1', 'energy_100g', 'fat_100g',\n",
       "       'saturated-fat_100g', 'sugars_100g', 'fiber_100g', 'proteins_100g',\n",
       "       'salt_100g', 'sodium_100g', 'fruits-vegetables-nuts_100g',\n",
       "       'nutrition-score-fr_100g'],\n",
       "      dtype='object')"
      ]
     },
     "metadata": {},
     "execution_count": 403
    }
   ],
   "source": [
    "removed_unknown_product_MVP_data.columns"
   ]
  },
  {
   "cell_type": "code",
   "execution_count": 404,
   "metadata": {},
   "outputs": [
    {
     "output_type": "execute_result",
     "data": {
      "text/plain": [
       "        nutrition_grade_fr  energy_100g  fat_100g  saturated-fat_100g  \\\n",
       "0                     True         True      True                True   \n",
       "1                     True         True      True                True   \n",
       "2                     True         True      True                True   \n",
       "4                     True         True      True                True   \n",
       "5                     True         True      True                True   \n",
       "...                    ...          ...       ...                 ...   \n",
       "129315                True        False     False               False   \n",
       "129316                True         True      True                True   \n",
       "129317                True         True      True                True   \n",
       "129318                True         True      True                True   \n",
       "129319                True         True      True                True   \n",
       "\n",
       "        sugars_100g  fiber_100g  proteins_100g  salt_100g  sodium_100g  \\\n",
       "0              True        True           True       True         True   \n",
       "1              True        True           True       True         True   \n",
       "2              True        True           True       True         True   \n",
       "4              True        True           True       True         True   \n",
       "5              True        True           True       True         True   \n",
       "...             ...         ...            ...        ...          ...   \n",
       "129315        False       False          False      False        False   \n",
       "129316         True        True           True       True         True   \n",
       "129317         True        True           True       True         True   \n",
       "129318         True        True           True       True         True   \n",
       "129319         True        True           True       True         True   \n",
       "\n",
       "        fruits-vegetables-nuts_100g  nutrition-score-fr_100g  \n",
       "0                              True                     True  \n",
       "1                              True                     True  \n",
       "2                              True                     True  \n",
       "4                              True                     True  \n",
       "5                              True                     True  \n",
       "...                             ...                      ...  \n",
       "129315                         True                     True  \n",
       "129316                         True                     True  \n",
       "129317                         True                     True  \n",
       "129318                         True                     True  \n",
       "129319                         True                     True  \n",
       "\n",
       "[120703 rows x 11 columns]"
      ],
      "text/html": "<div>\n<style scoped>\n    .dataframe tbody tr th:only-of-type {\n        vertical-align: middle;\n    }\n\n    .dataframe tbody tr th {\n        vertical-align: top;\n    }\n\n    .dataframe thead th {\n        text-align: right;\n    }\n</style>\n<table border=\"1\" class=\"dataframe\">\n  <thead>\n    <tr style=\"text-align: right;\">\n      <th></th>\n      <th>nutrition_grade_fr</th>\n      <th>energy_100g</th>\n      <th>fat_100g</th>\n      <th>saturated-fat_100g</th>\n      <th>sugars_100g</th>\n      <th>fiber_100g</th>\n      <th>proteins_100g</th>\n      <th>salt_100g</th>\n      <th>sodium_100g</th>\n      <th>fruits-vegetables-nuts_100g</th>\n      <th>nutrition-score-fr_100g</th>\n    </tr>\n  </thead>\n  <tbody>\n    <tr>\n      <th>0</th>\n      <td>True</td>\n      <td>True</td>\n      <td>True</td>\n      <td>True</td>\n      <td>True</td>\n      <td>True</td>\n      <td>True</td>\n      <td>True</td>\n      <td>True</td>\n      <td>True</td>\n      <td>True</td>\n    </tr>\n    <tr>\n      <th>1</th>\n      <td>True</td>\n      <td>True</td>\n      <td>True</td>\n      <td>True</td>\n      <td>True</td>\n      <td>True</td>\n      <td>True</td>\n      <td>True</td>\n      <td>True</td>\n      <td>True</td>\n      <td>True</td>\n    </tr>\n    <tr>\n      <th>2</th>\n      <td>True</td>\n      <td>True</td>\n      <td>True</td>\n      <td>True</td>\n      <td>True</td>\n      <td>True</td>\n      <td>True</td>\n      <td>True</td>\n      <td>True</td>\n      <td>True</td>\n      <td>True</td>\n    </tr>\n    <tr>\n      <th>4</th>\n      <td>True</td>\n      <td>True</td>\n      <td>True</td>\n      <td>True</td>\n      <td>True</td>\n      <td>True</td>\n      <td>True</td>\n      <td>True</td>\n      <td>True</td>\n      <td>True</td>\n      <td>True</td>\n    </tr>\n    <tr>\n      <th>5</th>\n      <td>True</td>\n      <td>True</td>\n      <td>True</td>\n      <td>True</td>\n      <td>True</td>\n      <td>True</td>\n      <td>True</td>\n      <td>True</td>\n      <td>True</td>\n      <td>True</td>\n      <td>True</td>\n    </tr>\n    <tr>\n      <th>...</th>\n      <td>...</td>\n      <td>...</td>\n      <td>...</td>\n      <td>...</td>\n      <td>...</td>\n      <td>...</td>\n      <td>...</td>\n      <td>...</td>\n      <td>...</td>\n      <td>...</td>\n      <td>...</td>\n    </tr>\n    <tr>\n      <th>129315</th>\n      <td>True</td>\n      <td>False</td>\n      <td>False</td>\n      <td>False</td>\n      <td>False</td>\n      <td>False</td>\n      <td>False</td>\n      <td>False</td>\n      <td>False</td>\n      <td>True</td>\n      <td>True</td>\n    </tr>\n    <tr>\n      <th>129316</th>\n      <td>True</td>\n      <td>True</td>\n      <td>True</td>\n      <td>True</td>\n      <td>True</td>\n      <td>True</td>\n      <td>True</td>\n      <td>True</td>\n      <td>True</td>\n      <td>True</td>\n      <td>True</td>\n    </tr>\n    <tr>\n      <th>129317</th>\n      <td>True</td>\n      <td>True</td>\n      <td>True</td>\n      <td>True</td>\n      <td>True</td>\n      <td>True</td>\n      <td>True</td>\n      <td>True</td>\n      <td>True</td>\n      <td>True</td>\n      <td>True</td>\n    </tr>\n    <tr>\n      <th>129318</th>\n      <td>True</td>\n      <td>True</td>\n      <td>True</td>\n      <td>True</td>\n      <td>True</td>\n      <td>True</td>\n      <td>True</td>\n      <td>True</td>\n      <td>True</td>\n      <td>True</td>\n      <td>True</td>\n    </tr>\n    <tr>\n      <th>129319</th>\n      <td>True</td>\n      <td>True</td>\n      <td>True</td>\n      <td>True</td>\n      <td>True</td>\n      <td>True</td>\n      <td>True</td>\n      <td>True</td>\n      <td>True</td>\n      <td>True</td>\n      <td>True</td>\n    </tr>\n  </tbody>\n</table>\n<p>120703 rows × 11 columns</p>\n</div>"
     },
     "metadata": {},
     "execution_count": 404
    }
   ],
   "source": [
    "checked_columns = ['nutrition_grade_fr', 'energy_100g', 'fat_100g',\n",
    "       'saturated-fat_100g', 'sugars_100g', 'fiber_100g', 'proteins_100g',\n",
    "       'salt_100g', 'sodium_100g', 'fruits-vegetables-nuts_100g',\n",
    "       'nutrition-score-fr_100g']\n",
    "removed_unknown_product_MVP_data.loc[:,checked_columns].isnull()"
   ]
  },
  {
   "source": [
    "24 803 index sont donc concernés. On sait donc qu'ils ne nous seront d'aucune utilité dans la mesure où on ne pourra rien en tirer. Nous allons donc les supprimer."
   ],
   "cell_type": "markdown",
   "metadata": {}
  },
  {
   "cell_type": "code",
   "execution_count": 407,
   "metadata": {},
   "outputs": [
    {
     "output_type": "error",
     "ename": "KeyError",
     "evalue": "\"['nutrition_grade_fr' 'energy_100g' 'fat_100g' 'saturated-fat_100g'\\n 'sugars_100g' 'fiber_100g' 'proteins_100g' 'salt_100g' 'sodium_100g'\\n 'fruits-vegetables-nuts_100g' 'nutrition-score-fr_100g'] not found in axis\"",
     "traceback": [
      "\u001b[0;31m---------------------------------------------------------------------------\u001b[0m",
      "\u001b[0;31mKeyError\u001b[0m                                  Traceback (most recent call last)",
      "\u001b[0;32m<ipython-input-407-a07fb560e804>\u001b[0m in \u001b[0;36m<module>\u001b[0;34m\u001b[0m\n\u001b[0;32m----> 1\u001b[0;31m \u001b[0mremoved_unknown_product_MVP_data\u001b[0m \u001b[0;34m=\u001b[0m \u001b[0mremoved_unknown_product_MVP_data\u001b[0m\u001b[0;34m.\u001b[0m\u001b[0mdrop\u001b[0m\u001b[0;34m(\u001b[0m\u001b[0mremoved_unknown_product_MVP_data\u001b[0m\u001b[0;34m.\u001b[0m\u001b[0mloc\u001b[0m\u001b[0;34m[\u001b[0m\u001b[0mremoved_unknown_product_MVP_data\u001b[0m\u001b[0;34m.\u001b[0m\u001b[0misnull\u001b[0m\u001b[0;34m(\u001b[0m\u001b[0;34m)\u001b[0m\u001b[0;34m.\u001b[0m\u001b[0mindex\u001b[0m\u001b[0;34m,\u001b[0m\u001b[0mchecked_columns\u001b[0m\u001b[0;34m]\u001b[0m\u001b[0;34m)\u001b[0m\u001b[0;34m\u001b[0m\u001b[0;34m\u001b[0m\u001b[0m\n\u001b[0m",
      "\u001b[0;32m~/anaconda3/lib/python3.8/site-packages/pandas/core/frame.py\u001b[0m in \u001b[0;36mdrop\u001b[0;34m(self, labels, axis, index, columns, level, inplace, errors)\u001b[0m\n\u001b[1;32m   4161\u001b[0m                 \u001b[0mweight\u001b[0m  \u001b[0;36m1.0\u001b[0m     \u001b[0;36m0.8\u001b[0m\u001b[0;34m\u001b[0m\u001b[0;34m\u001b[0m\u001b[0m\n\u001b[1;32m   4162\u001b[0m         \"\"\"\n\u001b[0;32m-> 4163\u001b[0;31m         return super().drop(\n\u001b[0m\u001b[1;32m   4164\u001b[0m             \u001b[0mlabels\u001b[0m\u001b[0;34m=\u001b[0m\u001b[0mlabels\u001b[0m\u001b[0;34m,\u001b[0m\u001b[0;34m\u001b[0m\u001b[0;34m\u001b[0m\u001b[0m\n\u001b[1;32m   4165\u001b[0m             \u001b[0maxis\u001b[0m\u001b[0;34m=\u001b[0m\u001b[0maxis\u001b[0m\u001b[0;34m,\u001b[0m\u001b[0;34m\u001b[0m\u001b[0;34m\u001b[0m\u001b[0m\n",
      "\u001b[0;32m~/anaconda3/lib/python3.8/site-packages/pandas/core/generic.py\u001b[0m in \u001b[0;36mdrop\u001b[0;34m(self, labels, axis, index, columns, level, inplace, errors)\u001b[0m\n\u001b[1;32m   3885\u001b[0m         \u001b[0;32mfor\u001b[0m \u001b[0maxis\u001b[0m\u001b[0;34m,\u001b[0m \u001b[0mlabels\u001b[0m \u001b[0;32min\u001b[0m \u001b[0maxes\u001b[0m\u001b[0;34m.\u001b[0m\u001b[0mitems\u001b[0m\u001b[0;34m(\u001b[0m\u001b[0;34m)\u001b[0m\u001b[0;34m:\u001b[0m\u001b[0;34m\u001b[0m\u001b[0;34m\u001b[0m\u001b[0m\n\u001b[1;32m   3886\u001b[0m             \u001b[0;32mif\u001b[0m \u001b[0mlabels\u001b[0m \u001b[0;32mis\u001b[0m \u001b[0;32mnot\u001b[0m \u001b[0;32mNone\u001b[0m\u001b[0;34m:\u001b[0m\u001b[0;34m\u001b[0m\u001b[0;34m\u001b[0m\u001b[0m\n\u001b[0;32m-> 3887\u001b[0;31m                 \u001b[0mobj\u001b[0m \u001b[0;34m=\u001b[0m \u001b[0mobj\u001b[0m\u001b[0;34m.\u001b[0m\u001b[0m_drop_axis\u001b[0m\u001b[0;34m(\u001b[0m\u001b[0mlabels\u001b[0m\u001b[0;34m,\u001b[0m \u001b[0maxis\u001b[0m\u001b[0;34m,\u001b[0m \u001b[0mlevel\u001b[0m\u001b[0;34m=\u001b[0m\u001b[0mlevel\u001b[0m\u001b[0;34m,\u001b[0m \u001b[0merrors\u001b[0m\u001b[0;34m=\u001b[0m\u001b[0merrors\u001b[0m\u001b[0;34m)\u001b[0m\u001b[0;34m\u001b[0m\u001b[0;34m\u001b[0m\u001b[0m\n\u001b[0m\u001b[1;32m   3888\u001b[0m \u001b[0;34m\u001b[0m\u001b[0m\n\u001b[1;32m   3889\u001b[0m         \u001b[0;32mif\u001b[0m \u001b[0minplace\u001b[0m\u001b[0;34m:\u001b[0m\u001b[0;34m\u001b[0m\u001b[0;34m\u001b[0m\u001b[0m\n",
      "\u001b[0;32m~/anaconda3/lib/python3.8/site-packages/pandas/core/generic.py\u001b[0m in \u001b[0;36m_drop_axis\u001b[0;34m(self, labels, axis, level, errors)\u001b[0m\n\u001b[1;32m   3919\u001b[0m                 \u001b[0mnew_axis\u001b[0m \u001b[0;34m=\u001b[0m \u001b[0maxis\u001b[0m\u001b[0;34m.\u001b[0m\u001b[0mdrop\u001b[0m\u001b[0;34m(\u001b[0m\u001b[0mlabels\u001b[0m\u001b[0;34m,\u001b[0m \u001b[0mlevel\u001b[0m\u001b[0;34m=\u001b[0m\u001b[0mlevel\u001b[0m\u001b[0;34m,\u001b[0m \u001b[0merrors\u001b[0m\u001b[0;34m=\u001b[0m\u001b[0merrors\u001b[0m\u001b[0;34m)\u001b[0m\u001b[0;34m\u001b[0m\u001b[0;34m\u001b[0m\u001b[0m\n\u001b[1;32m   3920\u001b[0m             \u001b[0;32melse\u001b[0m\u001b[0;34m:\u001b[0m\u001b[0;34m\u001b[0m\u001b[0;34m\u001b[0m\u001b[0m\n\u001b[0;32m-> 3921\u001b[0;31m                 \u001b[0mnew_axis\u001b[0m \u001b[0;34m=\u001b[0m \u001b[0maxis\u001b[0m\u001b[0;34m.\u001b[0m\u001b[0mdrop\u001b[0m\u001b[0;34m(\u001b[0m\u001b[0mlabels\u001b[0m\u001b[0;34m,\u001b[0m \u001b[0merrors\u001b[0m\u001b[0;34m=\u001b[0m\u001b[0merrors\u001b[0m\u001b[0;34m)\u001b[0m\u001b[0;34m\u001b[0m\u001b[0;34m\u001b[0m\u001b[0m\n\u001b[0m\u001b[1;32m   3922\u001b[0m             \u001b[0mresult\u001b[0m \u001b[0;34m=\u001b[0m \u001b[0mself\u001b[0m\u001b[0;34m.\u001b[0m\u001b[0mreindex\u001b[0m\u001b[0;34m(\u001b[0m\u001b[0;34m**\u001b[0m\u001b[0;34m{\u001b[0m\u001b[0maxis_name\u001b[0m\u001b[0;34m:\u001b[0m \u001b[0mnew_axis\u001b[0m\u001b[0;34m}\u001b[0m\u001b[0;34m)\u001b[0m\u001b[0;34m\u001b[0m\u001b[0;34m\u001b[0m\u001b[0m\n\u001b[1;32m   3923\u001b[0m \u001b[0;34m\u001b[0m\u001b[0m\n",
      "\u001b[0;32m~/anaconda3/lib/python3.8/site-packages/pandas/core/indexes/base.py\u001b[0m in \u001b[0;36mdrop\u001b[0;34m(self, labels, errors)\u001b[0m\n\u001b[1;32m   5280\u001b[0m         \u001b[0;32mif\u001b[0m \u001b[0mmask\u001b[0m\u001b[0;34m.\u001b[0m\u001b[0many\u001b[0m\u001b[0;34m(\u001b[0m\u001b[0;34m)\u001b[0m\u001b[0;34m:\u001b[0m\u001b[0;34m\u001b[0m\u001b[0;34m\u001b[0m\u001b[0m\n\u001b[1;32m   5281\u001b[0m             \u001b[0;32mif\u001b[0m \u001b[0merrors\u001b[0m \u001b[0;34m!=\u001b[0m \u001b[0;34m\"ignore\"\u001b[0m\u001b[0;34m:\u001b[0m\u001b[0;34m\u001b[0m\u001b[0;34m\u001b[0m\u001b[0m\n\u001b[0;32m-> 5282\u001b[0;31m                 \u001b[0;32mraise\u001b[0m \u001b[0mKeyError\u001b[0m\u001b[0;34m(\u001b[0m\u001b[0;34mf\"{labels[mask]} not found in axis\"\u001b[0m\u001b[0;34m)\u001b[0m\u001b[0;34m\u001b[0m\u001b[0;34m\u001b[0m\u001b[0m\n\u001b[0m\u001b[1;32m   5283\u001b[0m             \u001b[0mindexer\u001b[0m \u001b[0;34m=\u001b[0m \u001b[0mindexer\u001b[0m\u001b[0;34m[\u001b[0m\u001b[0;34m~\u001b[0m\u001b[0mmask\u001b[0m\u001b[0;34m]\u001b[0m\u001b[0;34m\u001b[0m\u001b[0;34m\u001b[0m\u001b[0m\n\u001b[1;32m   5284\u001b[0m         \u001b[0;32mreturn\u001b[0m \u001b[0mself\u001b[0m\u001b[0;34m.\u001b[0m\u001b[0mdelete\u001b[0m\u001b[0;34m(\u001b[0m\u001b[0mindexer\u001b[0m\u001b[0;34m)\u001b[0m\u001b[0;34m\u001b[0m\u001b[0;34m\u001b[0m\u001b[0m\n",
      "\u001b[0;31mKeyError\u001b[0m: \"['nutrition_grade_fr' 'energy_100g' 'fat_100g' 'saturated-fat_100g'\\n 'sugars_100g' 'fiber_100g' 'proteins_100g' 'salt_100g' 'sodium_100g'\\n 'fruits-vegetables-nuts_100g' 'nutrition-score-fr_100g'] not found in axis\""
     ]
    }
   ],
   "source": [
    "removed_unknown_product_MVP_data = removed_unknown_product_MVP_data.drop(removed_unknown_product_MVP_data.loc[removed_unknown_product_MVP_data.isnull().index,checked_columns])"
   ]
  },
  {
   "cell_type": "code",
   "execution_count": 378,
   "metadata": {},
   "outputs": [
    {
     "output_type": "execute_result",
     "data": {
      "text/plain": [
       "(120703, 16)"
      ]
     },
     "metadata": {},
     "execution_count": 378
    }
   ],
   "source": [
    "removed_unknown_product_MVP_data.shape"
   ]
  },
  {
   "cell_type": "code",
   "execution_count": null,
   "metadata": {},
   "outputs": [],
   "source": []
  }
 ]
}