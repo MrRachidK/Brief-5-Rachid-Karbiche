{
 "metadata": {
  "language_info": {
   "codemirror_mode": {
    "name": "ipython",
    "version": 3
   },
   "file_extension": ".py",
   "mimetype": "text/x-python",
   "name": "python",
   "nbconvert_exporter": "python",
   "pygments_lexer": "ipython3",
   "version": "3.8.5-final"
  },
  "orig_nbformat": 2,
  "kernelspec": {
   "name": "python3",
   "display_name": "Python 3",
   "language": "python"
  }
 },
 "nbformat": 4,
 "nbformat_minor": 2,
 "cells": [
  {
   "source": [
    "## Importation des différentes librairies dont nous avons besoin et ouverture d'une partie du fichier de données que nous allons étudier"
   ],
   "cell_type": "markdown",
   "metadata": {}
  },
  {
   "cell_type": "code",
   "execution_count": 1,
   "metadata": {
    "tags": []
   },
   "outputs": [],
   "source": [
    "# Import all the libraries we need for the brief\n",
    "import pandas as pd\n",
    "import seaborn as sns\n",
    "import numpy as np\n",
    "import matplotlib.pyplot as plt\n",
    "import re\n",
    "\n",
    "# Reading of the TSV file by choosing 10 000 random rows\n",
    "read_food_data = pd.read_csv('/home/apprenant/Documents/Brief-5-Rachid-Karbiche/data/01_raw_data/en.openfoodfacts.org.products.tsv', sep= '\\t', low_memory= False)\n",
    "\n",
    "# Showing all the rows and the columns\n",
    "pd.options.display.max_columns = None\n",
    "pd.options.display.max_rows = None\n",
    "\n",
    "# read_food_data.shape"
   ]
  },
  {
   "source": [
    "Comme le fichier de données est assez volumineux, j'ai choisi de faire un premier tri en ne gardant que les entrées ayant comme valeur de countries 'France' car notre étude se concentre sur le marché français."
   ],
   "cell_type": "markdown",
   "metadata": {}
  },
  {
   "cell_type": "code",
   "execution_count": 2,
   "metadata": {},
   "outputs": [
    {
     "output_type": "execute_result",
     "data": {
      "text/plain": [
       "(129320, 163)"
      ]
     },
     "metadata": {},
     "execution_count": 2
    }
   ],
   "source": [
    "# Converting in the countries_en column all values containing 'France' into 'France'\n",
    "read_food_data[\"countries_en\"] = read_food_data[\"countries_en\"].apply(\n",
    "    lambda x: \"France\" if re.match(r\".*(France).*\", str(x), re.IGNORECASE) else x)\n",
    "\n",
    "read_food_data = read_food_data.loc[read_food_data.countries_en == 'France']\n",
    "read_food_data.shape"
   ]
  },
  {
   "source": [
    "Au lieu des 356 027 entrées initiales, nous avons au final 129 320 entrées dont la valeur du pays est la France. On travaillera donc sur ce nouveau tableau que nous allons enregistrer."
   ],
   "cell_type": "markdown",
   "metadata": {}
  },
  {
   "cell_type": "code",
   "execution_count": 3,
   "metadata": {},
   "outputs": [
    {
     "output_type": "execute_result",
     "data": {
      "text/plain": [
       "(129320, 163)"
      ]
     },
     "metadata": {},
     "execution_count": 3
    }
   ],
   "source": [
    "# Saving of the random rows in a new file\n",
    "# exported_data = read_food_data.to_csv('/home/apprenant/Documents/Brief-5-Rachid-Karbiche-2/data/01_raw_data/french_openfoodfacts_data.csv', index=False)\n",
    "\n",
    "# Reading of the new TSV file\n",
    "french_food_data = pd.read_csv('/home/apprenant/Documents/Brief-5-Rachid-Karbiche-2/data/01_raw_data/french_openfoodfacts_data.csv', low_memory= False)\n",
    "french_food_data.shape"
   ]
  },
  {
   "source": [
    "Nous avons donc bien dans notre nouveau tableau 129 320 entrées."
   ],
   "cell_type": "markdown",
   "metadata": {}
  },
  {
   "source": [
    "## Examen des différentes colonnes de la base de données"
   ],
   "cell_type": "markdown",
   "metadata": {}
  },
  {
   "cell_type": "code",
   "execution_count": 4,
   "metadata": {
    "tags": []
   },
   "outputs": [
    {
     "output_type": "stream",
     "name": "stdout",
     "text": [
      "(129320, 163)\n------------------------------\n['code' 'url' 'creator' 'created_t' 'created_datetime' 'last_modified_t'\n 'last_modified_datetime' 'product_name' 'generic_name' 'quantity'\n 'packaging' 'packaging_tags' 'brands' 'brands_tags' 'categories'\n 'categories_tags' 'categories_en' 'origins' 'origins_tags'\n 'manufacturing_places' 'manufacturing_places_tags' 'labels' 'labels_tags'\n 'labels_en' 'emb_codes' 'emb_codes_tags' 'first_packaging_code_geo'\n 'cities' 'cities_tags' 'purchase_places' 'stores' 'countries'\n 'countries_tags' 'countries_en' 'ingredients_text' 'allergens'\n 'allergens_en' 'traces' 'traces_tags' 'traces_en' 'serving_size'\n 'no_nutriments' 'additives_n' 'additives' 'additives_tags' 'additives_en'\n 'ingredients_from_palm_oil_n' 'ingredients_from_palm_oil'\n 'ingredients_from_palm_oil_tags'\n 'ingredients_that_may_be_from_palm_oil_n'\n 'ingredients_that_may_be_from_palm_oil'\n 'ingredients_that_may_be_from_palm_oil_tags' 'nutrition_grade_uk'\n 'nutrition_grade_fr' 'pnns_groups_1' 'pnns_groups_2' 'states'\n 'states_tags' 'states_en' 'main_category' 'main_category_en' 'image_url'\n 'image_small_url' 'energy_100g' 'energy-from-fat_100g' 'fat_100g'\n 'saturated-fat_100g' '-butyric-acid_100g' '-caproic-acid_100g'\n '-caprylic-acid_100g' '-capric-acid_100g' '-lauric-acid_100g'\n '-myristic-acid_100g' '-palmitic-acid_100g' '-stearic-acid_100g'\n '-arachidic-acid_100g' '-behenic-acid_100g' '-lignoceric-acid_100g'\n '-cerotic-acid_100g' '-montanic-acid_100g' '-melissic-acid_100g'\n 'monounsaturated-fat_100g' 'polyunsaturated-fat_100g' 'omega-3-fat_100g'\n '-alpha-linolenic-acid_100g' '-eicosapentaenoic-acid_100g'\n '-docosahexaenoic-acid_100g' 'omega-6-fat_100g' '-linoleic-acid_100g'\n '-arachidonic-acid_100g' '-gamma-linolenic-acid_100g'\n '-dihomo-gamma-linolenic-acid_100g' 'omega-9-fat_100g' '-oleic-acid_100g'\n '-elaidic-acid_100g' '-gondoic-acid_100g' '-mead-acid_100g'\n '-erucic-acid_100g' '-nervonic-acid_100g' 'trans-fat_100g'\n 'cholesterol_100g' 'carbohydrates_100g' 'sugars_100g' '-sucrose_100g'\n '-glucose_100g' '-fructose_100g' '-lactose_100g' '-maltose_100g'\n '-maltodextrins_100g' 'starch_100g' 'polyols_100g' 'fiber_100g'\n 'proteins_100g' 'casein_100g' 'serum-proteins_100g' 'nucleotides_100g'\n 'salt_100g' 'sodium_100g' 'alcohol_100g' 'vitamin-a_100g'\n 'beta-carotene_100g' 'vitamin-d_100g' 'vitamin-e_100g' 'vitamin-k_100g'\n 'vitamin-c_100g' 'vitamin-b1_100g' 'vitamin-b2_100g' 'vitamin-pp_100g'\n 'vitamin-b6_100g' 'vitamin-b9_100g' 'folates_100g' 'vitamin-b12_100g'\n 'biotin_100g' 'pantothenic-acid_100g' 'silica_100g' 'bicarbonate_100g'\n 'potassium_100g' 'chloride_100g' 'calcium_100g' 'phosphorus_100g'\n 'iron_100g' 'magnesium_100g' 'zinc_100g' 'copper_100g' 'manganese_100g'\n 'fluoride_100g' 'selenium_100g' 'chromium_100g' 'molybdenum_100g'\n 'iodine_100g' 'caffeine_100g' 'taurine_100g' 'ph_100g'\n 'fruits-vegetables-nuts_100g' 'fruits-vegetables-nuts-estimate_100g'\n 'collagen-meat-protein-ratio_100g' 'cocoa_100g' 'chlorophyl_100g'\n 'carbon-footprint_100g' 'nutrition-score-fr_100g'\n 'nutrition-score-uk_100g' 'glycemic-index_100g' 'water-hardness_100g']\n------------------------------\n"
     ]
    }
   ],
   "source": [
    "print(french_food_data.shape)\n",
    "print('------------------------------')\n",
    "print(french_food_data.columns.values)\n",
    "print('------------------------------')"
   ]
  },
  {
   "source": [
    "Dans un premier temps, on constate que nous retrouvons 163 colonnes au total dans la base. Il faut donc procéder à un premier tri en enlevant les variables qui nous sont complètement inutiles dans le cadre de notre projet."
   ],
   "cell_type": "markdown",
   "metadata": {}
  },
  {
   "cell_type": "code",
   "execution_count": 5,
   "metadata": {},
   "outputs": [
    {
     "output_type": "execute_result",
     "data": {
      "text/plain": [
       "           product_name generic_name           brands      brands_tags  \\\n",
       "0    Farine de blé noir          NaN  Ferme t'y R'nao  ferme-t-y-r-nao   \n",
       "1   Naturablue original          NaN      Natura4ever      natura4ever   \n",
       "2         Filet de bœuf          NaN              NaN              NaN   \n",
       "3                   NaN          NaN              NaN              NaN   \n",
       "4  Naturakrill original          NaN      Natura4ever      natura4ever   \n",
       "\n",
       "      categories    categories_tags      categories_en origins origins_tags  \\\n",
       "0            NaN                NaN                NaN     NaN          NaN   \n",
       "1            NaN                NaN                NaN     NaN          NaN   \n",
       "2  Filet de bœuf  fr:filet-de-boeuf  fr:Filet-de-boeuf     NaN          NaN   \n",
       "3            NaN                NaN                NaN     NaN          NaN   \n",
       "4            NaN                NaN                NaN     NaN          NaN   \n",
       "\n",
       "  labels labels_tags labels_en countries_en ingredients_text allergens  \\\n",
       "0    NaN         NaN       NaN       France              NaN       NaN   \n",
       "1    NaN         NaN       NaN       France              NaN       NaN   \n",
       "2    NaN         NaN       NaN       France              NaN       NaN   \n",
       "3    NaN         NaN       NaN       France              NaN       NaN   \n",
       "4    NaN         NaN       NaN       France              NaN       NaN   \n",
       "\n",
       "   allergens_en traces traces_tags traces_en  additives_n additives  \\\n",
       "0           NaN    NaN         NaN       NaN          NaN       NaN   \n",
       "1           NaN    NaN         NaN       NaN          NaN       NaN   \n",
       "2           NaN    NaN         NaN       NaN          NaN       NaN   \n",
       "3           NaN    NaN         NaN       NaN          NaN       NaN   \n",
       "4           NaN    NaN         NaN       NaN          NaN       NaN   \n",
       "\n",
       "  additives_tags additives_en  ingredients_from_palm_oil_n  \\\n",
       "0            NaN          NaN                          NaN   \n",
       "1            NaN          NaN                          NaN   \n",
       "2            NaN          NaN                          NaN   \n",
       "3            NaN          NaN                          NaN   \n",
       "4            NaN          NaN                          NaN   \n",
       "\n",
       "   ingredients_from_palm_oil ingredients_from_palm_oil_tags  \\\n",
       "0                        NaN                            NaN   \n",
       "1                        NaN                            NaN   \n",
       "2                        NaN                            NaN   \n",
       "3                        NaN                            NaN   \n",
       "4                        NaN                            NaN   \n",
       "\n",
       "   ingredients_that_may_be_from_palm_oil_n  \\\n",
       "0                                      NaN   \n",
       "1                                      NaN   \n",
       "2                                      NaN   \n",
       "3                                      NaN   \n",
       "4                                      NaN   \n",
       "\n",
       "   ingredients_that_may_be_from_palm_oil  \\\n",
       "0                                    NaN   \n",
       "1                                    NaN   \n",
       "2                                    NaN   \n",
       "3                                    NaN   \n",
       "4                                    NaN   \n",
       "\n",
       "  ingredients_that_may_be_from_palm_oil_tags nutrition_grade_fr pnns_groups_1  \\\n",
       "0                                        NaN                NaN           NaN   \n",
       "1                                        NaN                NaN           NaN   \n",
       "2                                        NaN                NaN       unknown   \n",
       "3                                        NaN                NaN           NaN   \n",
       "4                                        NaN                NaN           NaN   \n",
       "\n",
       "  pnns_groups_2  energy_100g  fat_100g  saturated-fat_100g  sugars_100g  \\\n",
       "0           NaN          NaN       NaN                 NaN          NaN   \n",
       "1           NaN          NaN       NaN                 NaN          NaN   \n",
       "2       unknown          NaN       NaN                 NaN          NaN   \n",
       "3           NaN          NaN       NaN                 NaN          NaN   \n",
       "4           NaN          NaN       NaN                 NaN          NaN   \n",
       "\n",
       "   -sucrose_100g  -glucose_100g  -fructose_100g  -lactose_100g  -maltose_100g  \\\n",
       "0            NaN            NaN             NaN            NaN            NaN   \n",
       "1            NaN            NaN             NaN            NaN            NaN   \n",
       "2            NaN            NaN             NaN            NaN            NaN   \n",
       "3            NaN            NaN             NaN            NaN            NaN   \n",
       "4            NaN            NaN             NaN            NaN            NaN   \n",
       "\n",
       "   -maltodextrins_100g  fiber_100g  proteins_100g  salt_100g  sodium_100g  \\\n",
       "0                  NaN         NaN            NaN        NaN          NaN   \n",
       "1                  NaN         NaN            NaN        NaN          NaN   \n",
       "2                  NaN         NaN            NaN        NaN          NaN   \n",
       "3                  NaN         NaN            NaN        NaN          NaN   \n",
       "4                  NaN         NaN            NaN        NaN          NaN   \n",
       "\n",
       "   vitamin-d_100g  vitamin-c_100g  calcium_100g  iron_100g  \\\n",
       "0             NaN             NaN           NaN        NaN   \n",
       "1             NaN             NaN           NaN        NaN   \n",
       "2             NaN             NaN           NaN        NaN   \n",
       "3             NaN             NaN           NaN        NaN   \n",
       "4             NaN             NaN           NaN        NaN   \n",
       "\n",
       "   fruits-vegetables-nuts_100g  fruits-vegetables-nuts-estimate_100g  \\\n",
       "0                          NaN                                   NaN   \n",
       "1                          NaN                                   NaN   \n",
       "2                          NaN                                   NaN   \n",
       "3                          NaN                                   NaN   \n",
       "4                          NaN                                   NaN   \n",
       "\n",
       "   carbon-footprint_100g  nutrition-score-fr_100g  nutrition-score-uk_100g  \\\n",
       "0                    NaN                      NaN                      NaN   \n",
       "1                    NaN                      NaN                      NaN   \n",
       "2                    NaN                      NaN                      NaN   \n",
       "3                    NaN                      NaN                      NaN   \n",
       "4                    NaN                      NaN                      NaN   \n",
       "\n",
       "   glycemic-index_100g  \n",
       "0                  NaN  \n",
       "1                  NaN  \n",
       "2                  NaN  \n",
       "3                  NaN  \n",
       "4                  NaN  "
      ],
      "text/html": "<div>\n<style scoped>\n    .dataframe tbody tr th:only-of-type {\n        vertical-align: middle;\n    }\n\n    .dataframe tbody tr th {\n        vertical-align: top;\n    }\n\n    .dataframe thead th {\n        text-align: right;\n    }\n</style>\n<table border=\"1\" class=\"dataframe\">\n  <thead>\n    <tr style=\"text-align: right;\">\n      <th></th>\n      <th>product_name</th>\n      <th>generic_name</th>\n      <th>brands</th>\n      <th>brands_tags</th>\n      <th>categories</th>\n      <th>categories_tags</th>\n      <th>categories_en</th>\n      <th>origins</th>\n      <th>origins_tags</th>\n      <th>labels</th>\n      <th>labels_tags</th>\n      <th>labels_en</th>\n      <th>countries_en</th>\n      <th>ingredients_text</th>\n      <th>allergens</th>\n      <th>allergens_en</th>\n      <th>traces</th>\n      <th>traces_tags</th>\n      <th>traces_en</th>\n      <th>additives_n</th>\n      <th>additives</th>\n      <th>additives_tags</th>\n      <th>additives_en</th>\n      <th>ingredients_from_palm_oil_n</th>\n      <th>ingredients_from_palm_oil</th>\n      <th>ingredients_from_palm_oil_tags</th>\n      <th>ingredients_that_may_be_from_palm_oil_n</th>\n      <th>ingredients_that_may_be_from_palm_oil</th>\n      <th>ingredients_that_may_be_from_palm_oil_tags</th>\n      <th>nutrition_grade_fr</th>\n      <th>pnns_groups_1</th>\n      <th>pnns_groups_2</th>\n      <th>energy_100g</th>\n      <th>fat_100g</th>\n      <th>saturated-fat_100g</th>\n      <th>sugars_100g</th>\n      <th>-sucrose_100g</th>\n      <th>-glucose_100g</th>\n      <th>-fructose_100g</th>\n      <th>-lactose_100g</th>\n      <th>-maltose_100g</th>\n      <th>-maltodextrins_100g</th>\n      <th>fiber_100g</th>\n      <th>proteins_100g</th>\n      <th>salt_100g</th>\n      <th>sodium_100g</th>\n      <th>vitamin-d_100g</th>\n      <th>vitamin-c_100g</th>\n      <th>calcium_100g</th>\n      <th>iron_100g</th>\n      <th>fruits-vegetables-nuts_100g</th>\n      <th>fruits-vegetables-nuts-estimate_100g</th>\n      <th>carbon-footprint_100g</th>\n      <th>nutrition-score-fr_100g</th>\n      <th>nutrition-score-uk_100g</th>\n      <th>glycemic-index_100g</th>\n    </tr>\n  </thead>\n  <tbody>\n    <tr>\n      <th>0</th>\n      <td>Farine de blé noir</td>\n      <td>NaN</td>\n      <td>Ferme t'y R'nao</td>\n      <td>ferme-t-y-r-nao</td>\n      <td>NaN</td>\n      <td>NaN</td>\n      <td>NaN</td>\n      <td>NaN</td>\n      <td>NaN</td>\n      <td>NaN</td>\n      <td>NaN</td>\n      <td>NaN</td>\n      <td>France</td>\n      <td>NaN</td>\n      <td>NaN</td>\n      <td>NaN</td>\n      <td>NaN</td>\n      <td>NaN</td>\n      <td>NaN</td>\n      <td>NaN</td>\n      <td>NaN</td>\n      <td>NaN</td>\n      <td>NaN</td>\n      <td>NaN</td>\n      <td>NaN</td>\n      <td>NaN</td>\n      <td>NaN</td>\n      <td>NaN</td>\n      <td>NaN</td>\n      <td>NaN</td>\n      <td>NaN</td>\n      <td>NaN</td>\n      <td>NaN</td>\n      <td>NaN</td>\n      <td>NaN</td>\n      <td>NaN</td>\n      <td>NaN</td>\n      <td>NaN</td>\n      <td>NaN</td>\n      <td>NaN</td>\n      <td>NaN</td>\n      <td>NaN</td>\n      <td>NaN</td>\n      <td>NaN</td>\n      <td>NaN</td>\n      <td>NaN</td>\n      <td>NaN</td>\n      <td>NaN</td>\n      <td>NaN</td>\n      <td>NaN</td>\n      <td>NaN</td>\n      <td>NaN</td>\n      <td>NaN</td>\n      <td>NaN</td>\n      <td>NaN</td>\n      <td>NaN</td>\n    </tr>\n    <tr>\n      <th>1</th>\n      <td>Naturablue original</td>\n      <td>NaN</td>\n      <td>Natura4ever</td>\n      <td>natura4ever</td>\n      <td>NaN</td>\n      <td>NaN</td>\n      <td>NaN</td>\n      <td>NaN</td>\n      <td>NaN</td>\n      <td>NaN</td>\n      <td>NaN</td>\n      <td>NaN</td>\n      <td>France</td>\n      <td>NaN</td>\n      <td>NaN</td>\n      <td>NaN</td>\n      <td>NaN</td>\n      <td>NaN</td>\n      <td>NaN</td>\n      <td>NaN</td>\n      <td>NaN</td>\n      <td>NaN</td>\n      <td>NaN</td>\n      <td>NaN</td>\n      <td>NaN</td>\n      <td>NaN</td>\n      <td>NaN</td>\n      <td>NaN</td>\n      <td>NaN</td>\n      <td>NaN</td>\n      <td>NaN</td>\n      <td>NaN</td>\n      <td>NaN</td>\n      <td>NaN</td>\n      <td>NaN</td>\n      <td>NaN</td>\n      <td>NaN</td>\n      <td>NaN</td>\n      <td>NaN</td>\n      <td>NaN</td>\n      <td>NaN</td>\n      <td>NaN</td>\n      <td>NaN</td>\n      <td>NaN</td>\n      <td>NaN</td>\n      <td>NaN</td>\n      <td>NaN</td>\n      <td>NaN</td>\n      <td>NaN</td>\n      <td>NaN</td>\n      <td>NaN</td>\n      <td>NaN</td>\n      <td>NaN</td>\n      <td>NaN</td>\n      <td>NaN</td>\n      <td>NaN</td>\n    </tr>\n    <tr>\n      <th>2</th>\n      <td>Filet de bœuf</td>\n      <td>NaN</td>\n      <td>NaN</td>\n      <td>NaN</td>\n      <td>Filet de bœuf</td>\n      <td>fr:filet-de-boeuf</td>\n      <td>fr:Filet-de-boeuf</td>\n      <td>NaN</td>\n      <td>NaN</td>\n      <td>NaN</td>\n      <td>NaN</td>\n      <td>NaN</td>\n      <td>France</td>\n      <td>NaN</td>\n      <td>NaN</td>\n      <td>NaN</td>\n      <td>NaN</td>\n      <td>NaN</td>\n      <td>NaN</td>\n      <td>NaN</td>\n      <td>NaN</td>\n      <td>NaN</td>\n      <td>NaN</td>\n      <td>NaN</td>\n      <td>NaN</td>\n      <td>NaN</td>\n      <td>NaN</td>\n      <td>NaN</td>\n      <td>NaN</td>\n      <td>NaN</td>\n      <td>unknown</td>\n      <td>unknown</td>\n      <td>NaN</td>\n      <td>NaN</td>\n      <td>NaN</td>\n      <td>NaN</td>\n      <td>NaN</td>\n      <td>NaN</td>\n      <td>NaN</td>\n      <td>NaN</td>\n      <td>NaN</td>\n      <td>NaN</td>\n      <td>NaN</td>\n      <td>NaN</td>\n      <td>NaN</td>\n      <td>NaN</td>\n      <td>NaN</td>\n      <td>NaN</td>\n      <td>NaN</td>\n      <td>NaN</td>\n      <td>NaN</td>\n      <td>NaN</td>\n      <td>NaN</td>\n      <td>NaN</td>\n      <td>NaN</td>\n      <td>NaN</td>\n    </tr>\n    <tr>\n      <th>3</th>\n      <td>NaN</td>\n      <td>NaN</td>\n      <td>NaN</td>\n      <td>NaN</td>\n      <td>NaN</td>\n      <td>NaN</td>\n      <td>NaN</td>\n      <td>NaN</td>\n      <td>NaN</td>\n      <td>NaN</td>\n      <td>NaN</td>\n      <td>NaN</td>\n      <td>France</td>\n      <td>NaN</td>\n      <td>NaN</td>\n      <td>NaN</td>\n      <td>NaN</td>\n      <td>NaN</td>\n      <td>NaN</td>\n      <td>NaN</td>\n      <td>NaN</td>\n      <td>NaN</td>\n      <td>NaN</td>\n      <td>NaN</td>\n      <td>NaN</td>\n      <td>NaN</td>\n      <td>NaN</td>\n      <td>NaN</td>\n      <td>NaN</td>\n      <td>NaN</td>\n      <td>NaN</td>\n      <td>NaN</td>\n      <td>NaN</td>\n      <td>NaN</td>\n      <td>NaN</td>\n      <td>NaN</td>\n      <td>NaN</td>\n      <td>NaN</td>\n      <td>NaN</td>\n      <td>NaN</td>\n      <td>NaN</td>\n      <td>NaN</td>\n      <td>NaN</td>\n      <td>NaN</td>\n      <td>NaN</td>\n      <td>NaN</td>\n      <td>NaN</td>\n      <td>NaN</td>\n      <td>NaN</td>\n      <td>NaN</td>\n      <td>NaN</td>\n      <td>NaN</td>\n      <td>NaN</td>\n      <td>NaN</td>\n      <td>NaN</td>\n      <td>NaN</td>\n    </tr>\n    <tr>\n      <th>4</th>\n      <td>Naturakrill original</td>\n      <td>NaN</td>\n      <td>Natura4ever</td>\n      <td>natura4ever</td>\n      <td>NaN</td>\n      <td>NaN</td>\n      <td>NaN</td>\n      <td>NaN</td>\n      <td>NaN</td>\n      <td>NaN</td>\n      <td>NaN</td>\n      <td>NaN</td>\n      <td>France</td>\n      <td>NaN</td>\n      <td>NaN</td>\n      <td>NaN</td>\n      <td>NaN</td>\n      <td>NaN</td>\n      <td>NaN</td>\n      <td>NaN</td>\n      <td>NaN</td>\n      <td>NaN</td>\n      <td>NaN</td>\n      <td>NaN</td>\n      <td>NaN</td>\n      <td>NaN</td>\n      <td>NaN</td>\n      <td>NaN</td>\n      <td>NaN</td>\n      <td>NaN</td>\n      <td>NaN</td>\n      <td>NaN</td>\n      <td>NaN</td>\n      <td>NaN</td>\n      <td>NaN</td>\n      <td>NaN</td>\n      <td>NaN</td>\n      <td>NaN</td>\n      <td>NaN</td>\n      <td>NaN</td>\n      <td>NaN</td>\n      <td>NaN</td>\n      <td>NaN</td>\n      <td>NaN</td>\n      <td>NaN</td>\n      <td>NaN</td>\n      <td>NaN</td>\n      <td>NaN</td>\n      <td>NaN</td>\n      <td>NaN</td>\n      <td>NaN</td>\n      <td>NaN</td>\n      <td>NaN</td>\n      <td>NaN</td>\n      <td>NaN</td>\n      <td>NaN</td>\n    </tr>\n  </tbody>\n</table>\n</div>"
     },
     "metadata": {},
     "execution_count": 5
    }
   ],
   "source": [
    "selected_french_food_data = french_food_data[['product_name', 'generic_name', 'brands', 'brands_tags', 'categories', 'categories_tags', 'categories_en', 'origins', 'origins_tags', 'labels', 'labels_tags', 'labels_en', 'countries_en', 'ingredients_text', 'allergens', 'allergens_en', 'traces', 'traces_tags', 'traces_en', 'additives_n', 'additives', 'additives_tags', 'additives_en', 'ingredients_from_palm_oil_n', 'ingredients_from_palm_oil', 'ingredients_from_palm_oil_tags', 'ingredients_that_may_be_from_palm_oil_n', 'ingredients_that_may_be_from_palm_oil', 'ingredients_that_may_be_from_palm_oil_tags', 'nutrition_grade_fr', 'pnns_groups_1', 'pnns_groups_2', 'energy_100g', 'fat_100g', 'saturated-fat_100g', 'sugars_100g', '-sucrose_100g', '-glucose_100g', '-fructose_100g', '-lactose_100g', '-maltose_100g', '-maltodextrins_100g', 'fiber_100g', 'proteins_100g', 'salt_100g', 'sodium_100g', 'vitamin-d_100g', 'vitamin-c_100g', 'calcium_100g', 'iron_100g', 'fruits-vegetables-nuts_100g', 'fruits-vegetables-nuts-estimate_100g', 'carbon-footprint_100g', 'nutrition-score-fr_100g', 'nutrition-score-uk_100g', 'glycemic-index_100g']]\n",
    "selected_french_food_data.head()"
   ]
  },
  {
   "source": [
    "Après observation de ces différentes colonnes, on constate que :\n",
    "- beaucoup de ces colonnes sont de la métadonnée (code, url, creator, ...). Elles concernent uniquement la création de la data dans la base. Elles ne nous serviront pas\n",
    "- de nombreux éléments présentés concernant l'aliment nous semblent superflus (potassium, phosphore, zinc, ...). Le but ici est de se concentrer sur ce qui concerne le nutri-score mais aussi d'autres éléments connus largement des consommateurs (vitamines C et D, huile de palme, calcium, fer, ...)\n",
    "- certaines colonnes devront être observées plus précisément afin de ne pas faire doublon avec d'autres (les différents sucres, le nutrition score fr et uk, ...)\n",
    "\n",
    "Procédons à un deuxième examen de nos colonnes en vérifiant les données manquantes dans chacune d'entre elles."
   ],
   "cell_type": "markdown",
   "metadata": {}
  },
  {
   "cell_type": "code",
   "execution_count": 6,
   "metadata": {},
   "outputs": [
    {
     "output_type": "execute_result",
     "data": {
      "text/plain": [
       "product_name                                    6287\n",
       "generic_name                                   87722\n",
       "brands                                         11858\n",
       "brands_tags                                    11873\n",
       "categories                                     52451\n",
       "categories_tags                                52451\n",
       "categories_en                                  52451\n",
       "origins                                       111565\n",
       "origins_tags                                  111575\n",
       "labels                                         82937\n",
       "labels_tags                                    82902\n",
       "labels_en                                      82902\n",
       "countries_en                                       0\n",
       "ingredients_text                               42603\n",
       "allergens                                      98572\n",
       "allergens_en                                  129320\n",
       "traces                                        106760\n",
       "traces_tags                                   106761\n",
       "traces_en                                     106761\n",
       "additives_n                                    42603\n",
       "additives                                      42625\n",
       "additives_tags                                 82691\n",
       "additives_en                                   82691\n",
       "ingredients_from_palm_oil_n                    42603\n",
       "ingredients_from_palm_oil                     129320\n",
       "ingredients_from_palm_oil_tags                123933\n",
       "ingredients_that_may_be_from_palm_oil_n        42603\n",
       "ingredients_that_may_be_from_palm_oil         129320\n",
       "ingredients_that_may_be_from_palm_oil_tags    120526\n",
       "nutrition_grade_fr                             35954\n",
       "pnns_groups_1                                  31196\n",
       "pnns_groups_2                                  28504\n",
       "energy_100g                                    32521\n",
       "fat_100g                                       48087\n",
       "saturated-fat_100g                             34490\n",
       "sugars_100g                                    34379\n",
       "-sucrose_100g                                 129307\n",
       "-glucose_100g                                 129313\n",
       "-fructose_100g                                129293\n",
       "-lactose_100g                                 129169\n",
       "-maltose_100g                                 129315\n",
       "-maltodextrins_100g                           129309\n",
       "fiber_100g                                     64753\n",
       "proteins_100g                                  32783\n",
       "salt_100g                                      34329\n",
       "sodium_100g                                    34333\n",
       "vitamin-d_100g                                128649\n",
       "vitamin-c_100g                                127849\n",
       "calcium_100g                                  126751\n",
       "iron_100g                                     127975\n",
       "fruits-vegetables-nuts_100g                   126174\n",
       "fruits-vegetables-nuts-estimate_100g          128935\n",
       "carbon-footprint_100g                         129135\n",
       "nutrition-score-fr_100g                        35954\n",
       "nutrition-score-uk_100g                        35954\n",
       "glycemic-index_100g                           129320\n",
       "dtype: int64"
      ]
     },
     "metadata": {},
     "execution_count": 6
    }
   ],
   "source": [
    "selected_french_food_data.isnull().sum(axis = 0)"
   ]
  },
  {
   "source": [
    "A première vue, on constate que de nombreuses colonnes ne présentent quasiment que des données manquantes (glycemic-index_100g par exemple). Pour ce genre de données, on sait qu'elles ne dépendent pas réellement d'autres dans la base ou que leur calcul ne peut pas se faire. Ces colonnes n'ont donc pas à être gardées.\n",
    "\n"
   ],
   "cell_type": "markdown",
   "metadata": {}
  },
  {
   "cell_type": "code",
   "execution_count": 18,
   "metadata": {},
   "outputs": [
    {
     "output_type": "execute_result",
     "data": {
      "text/plain": [
       "           product_name generic_name           brands      brands_tags  \\\n",
       "0    Farine de blé noir          NaN  Ferme t'y R'nao  ferme-t-y-r-nao   \n",
       "1   Naturablue original          NaN      Natura4ever      natura4ever   \n",
       "2         Filet de bœuf          NaN              NaN              NaN   \n",
       "3                   NaN          NaN              NaN              NaN   \n",
       "4  Naturakrill original          NaN      Natura4ever      natura4ever   \n",
       "\n",
       "      categories    categories_tags      categories_en origins origins_tags  \\\n",
       "0            NaN                NaN                NaN     NaN          NaN   \n",
       "1            NaN                NaN                NaN     NaN          NaN   \n",
       "2  Filet de bœuf  fr:filet-de-boeuf  fr:Filet-de-boeuf     NaN          NaN   \n",
       "3            NaN                NaN                NaN     NaN          NaN   \n",
       "4            NaN                NaN                NaN     NaN          NaN   \n",
       "\n",
       "  labels labels_tags labels_en countries_en ingredients_text allergens  \\\n",
       "0    NaN         NaN       NaN       France              NaN       NaN   \n",
       "1    NaN         NaN       NaN       France              NaN       NaN   \n",
       "2    NaN         NaN       NaN       France              NaN       NaN   \n",
       "3    NaN         NaN       NaN       France              NaN       NaN   \n",
       "4    NaN         NaN       NaN       France              NaN       NaN   \n",
       "\n",
       "   allergens_en traces traces_tags traces_en  additives_n additives  \\\n",
       "0           NaN    NaN         NaN       NaN          NaN       NaN   \n",
       "1           NaN    NaN         NaN       NaN          NaN       NaN   \n",
       "2           NaN    NaN         NaN       NaN          NaN       NaN   \n",
       "3           NaN    NaN         NaN       NaN          NaN       NaN   \n",
       "4           NaN    NaN         NaN       NaN          NaN       NaN   \n",
       "\n",
       "  additives_tags additives_en  ingredients_from_palm_oil_n  \\\n",
       "0            NaN          NaN                          NaN   \n",
       "1            NaN          NaN                          NaN   \n",
       "2            NaN          NaN                          NaN   \n",
       "3            NaN          NaN                          NaN   \n",
       "4            NaN          NaN                          NaN   \n",
       "\n",
       "   ingredients_from_palm_oil ingredients_from_palm_oil_tags  \\\n",
       "0                        NaN                            NaN   \n",
       "1                        NaN                            NaN   \n",
       "2                        NaN                            NaN   \n",
       "3                        NaN                            NaN   \n",
       "4                        NaN                            NaN   \n",
       "\n",
       "   ingredients_that_may_be_from_palm_oil_n  \\\n",
       "0                                      NaN   \n",
       "1                                      NaN   \n",
       "2                                      NaN   \n",
       "3                                      NaN   \n",
       "4                                      NaN   \n",
       "\n",
       "   ingredients_that_may_be_from_palm_oil  \\\n",
       "0                                    NaN   \n",
       "1                                    NaN   \n",
       "2                                    NaN   \n",
       "3                                    NaN   \n",
       "4                                    NaN   \n",
       "\n",
       "  ingredients_that_may_be_from_palm_oil_tags nutrition_grade_fr pnns_groups_1  \\\n",
       "0                                        NaN                NaN           NaN   \n",
       "1                                        NaN                NaN           NaN   \n",
       "2                                        NaN                NaN       unknown   \n",
       "3                                        NaN                NaN           NaN   \n",
       "4                                        NaN                NaN           NaN   \n",
       "\n",
       "  pnns_groups_2  energy_100g  fat_100g  saturated-fat_100g  sugars_100g  \\\n",
       "0           NaN          NaN       NaN                 NaN          NaN   \n",
       "1           NaN          NaN       NaN                 NaN          NaN   \n",
       "2       unknown          NaN       NaN                 NaN          NaN   \n",
       "3           NaN          NaN       NaN                 NaN          NaN   \n",
       "4           NaN          NaN       NaN                 NaN          NaN   \n",
       "\n",
       "   -sucrose_100g  -glucose_100g  -fructose_100g  -lactose_100g  -maltose_100g  \\\n",
       "0            NaN            NaN             NaN            NaN            NaN   \n",
       "1            NaN            NaN             NaN            NaN            NaN   \n",
       "2            NaN            NaN             NaN            NaN            NaN   \n",
       "3            NaN            NaN             NaN            NaN            NaN   \n",
       "4            NaN            NaN             NaN            NaN            NaN   \n",
       "\n",
       "   -maltodextrins_100g  fiber_100g  proteins_100g  salt_100g  sodium_100g  \\\n",
       "0                  NaN         NaN            NaN        NaN          NaN   \n",
       "1                  NaN         NaN            NaN        NaN          NaN   \n",
       "2                  NaN         NaN            NaN        NaN          NaN   \n",
       "3                  NaN         NaN            NaN        NaN          NaN   \n",
       "4                  NaN         NaN            NaN        NaN          NaN   \n",
       "\n",
       "   vitamin-d_100g  vitamin-c_100g  calcium_100g  iron_100g  \\\n",
       "0             NaN             NaN           NaN        NaN   \n",
       "1             NaN             NaN           NaN        NaN   \n",
       "2             NaN             NaN           NaN        NaN   \n",
       "3             NaN             NaN           NaN        NaN   \n",
       "4             NaN             NaN           NaN        NaN   \n",
       "\n",
       "   fruits-vegetables-nuts_100g  fruits-vegetables-nuts-estimate_100g  \\\n",
       "0                          NaN                                   NaN   \n",
       "1                          NaN                                   NaN   \n",
       "2                          NaN                                   NaN   \n",
       "3                          NaN                                   NaN   \n",
       "4                          NaN                                   NaN   \n",
       "\n",
       "   carbon-footprint_100g  nutrition-score-fr_100g  nutrition-score-uk_100g  \\\n",
       "0                    NaN                      NaN                      NaN   \n",
       "1                    NaN                      NaN                      NaN   \n",
       "2                    NaN                      NaN                      NaN   \n",
       "3                    NaN                      NaN                      NaN   \n",
       "4                    NaN                      NaN                      NaN   \n",
       "\n",
       "   glycemic-index_100g  \n",
       "0                  NaN  \n",
       "1                  NaN  \n",
       "2                  NaN  \n",
       "3                  NaN  \n",
       "4                  NaN  "
      ],
      "text/html": "<div>\n<style scoped>\n    .dataframe tbody tr th:only-of-type {\n        vertical-align: middle;\n    }\n\n    .dataframe tbody tr th {\n        vertical-align: top;\n    }\n\n    .dataframe thead th {\n        text-align: right;\n    }\n</style>\n<table border=\"1\" class=\"dataframe\">\n  <thead>\n    <tr style=\"text-align: right;\">\n      <th></th>\n      <th>product_name</th>\n      <th>generic_name</th>\n      <th>brands</th>\n      <th>brands_tags</th>\n      <th>categories</th>\n      <th>categories_tags</th>\n      <th>categories_en</th>\n      <th>origins</th>\n      <th>origins_tags</th>\n      <th>labels</th>\n      <th>labels_tags</th>\n      <th>labels_en</th>\n      <th>countries_en</th>\n      <th>ingredients_text</th>\n      <th>allergens</th>\n      <th>allergens_en</th>\n      <th>traces</th>\n      <th>traces_tags</th>\n      <th>traces_en</th>\n      <th>additives_n</th>\n      <th>additives</th>\n      <th>additives_tags</th>\n      <th>additives_en</th>\n      <th>ingredients_from_palm_oil_n</th>\n      <th>ingredients_from_palm_oil</th>\n      <th>ingredients_from_palm_oil_tags</th>\n      <th>ingredients_that_may_be_from_palm_oil_n</th>\n      <th>ingredients_that_may_be_from_palm_oil</th>\n      <th>ingredients_that_may_be_from_palm_oil_tags</th>\n      <th>nutrition_grade_fr</th>\n      <th>pnns_groups_1</th>\n      <th>pnns_groups_2</th>\n      <th>energy_100g</th>\n      <th>fat_100g</th>\n      <th>saturated-fat_100g</th>\n      <th>sugars_100g</th>\n      <th>-sucrose_100g</th>\n      <th>-glucose_100g</th>\n      <th>-fructose_100g</th>\n      <th>-lactose_100g</th>\n      <th>-maltose_100g</th>\n      <th>-maltodextrins_100g</th>\n      <th>fiber_100g</th>\n      <th>proteins_100g</th>\n      <th>salt_100g</th>\n      <th>sodium_100g</th>\n      <th>vitamin-d_100g</th>\n      <th>vitamin-c_100g</th>\n      <th>calcium_100g</th>\n      <th>iron_100g</th>\n      <th>fruits-vegetables-nuts_100g</th>\n      <th>fruits-vegetables-nuts-estimate_100g</th>\n      <th>carbon-footprint_100g</th>\n      <th>nutrition-score-fr_100g</th>\n      <th>nutrition-score-uk_100g</th>\n      <th>glycemic-index_100g</th>\n    </tr>\n  </thead>\n  <tbody>\n    <tr>\n      <th>0</th>\n      <td>Farine de blé noir</td>\n      <td>NaN</td>\n      <td>Ferme t'y R'nao</td>\n      <td>ferme-t-y-r-nao</td>\n      <td>NaN</td>\n      <td>NaN</td>\n      <td>NaN</td>\n      <td>NaN</td>\n      <td>NaN</td>\n      <td>NaN</td>\n      <td>NaN</td>\n      <td>NaN</td>\n      <td>France</td>\n      <td>NaN</td>\n      <td>NaN</td>\n      <td>NaN</td>\n      <td>NaN</td>\n      <td>NaN</td>\n      <td>NaN</td>\n      <td>NaN</td>\n      <td>NaN</td>\n      <td>NaN</td>\n      <td>NaN</td>\n      <td>NaN</td>\n      <td>NaN</td>\n      <td>NaN</td>\n      <td>NaN</td>\n      <td>NaN</td>\n      <td>NaN</td>\n      <td>NaN</td>\n      <td>NaN</td>\n      <td>NaN</td>\n      <td>NaN</td>\n      <td>NaN</td>\n      <td>NaN</td>\n      <td>NaN</td>\n      <td>NaN</td>\n      <td>NaN</td>\n      <td>NaN</td>\n      <td>NaN</td>\n      <td>NaN</td>\n      <td>NaN</td>\n      <td>NaN</td>\n      <td>NaN</td>\n      <td>NaN</td>\n      <td>NaN</td>\n      <td>NaN</td>\n      <td>NaN</td>\n      <td>NaN</td>\n      <td>NaN</td>\n      <td>NaN</td>\n      <td>NaN</td>\n      <td>NaN</td>\n      <td>NaN</td>\n      <td>NaN</td>\n      <td>NaN</td>\n    </tr>\n    <tr>\n      <th>1</th>\n      <td>Naturablue original</td>\n      <td>NaN</td>\n      <td>Natura4ever</td>\n      <td>natura4ever</td>\n      <td>NaN</td>\n      <td>NaN</td>\n      <td>NaN</td>\n      <td>NaN</td>\n      <td>NaN</td>\n      <td>NaN</td>\n      <td>NaN</td>\n      <td>NaN</td>\n      <td>France</td>\n      <td>NaN</td>\n      <td>NaN</td>\n      <td>NaN</td>\n      <td>NaN</td>\n      <td>NaN</td>\n      <td>NaN</td>\n      <td>NaN</td>\n      <td>NaN</td>\n      <td>NaN</td>\n      <td>NaN</td>\n      <td>NaN</td>\n      <td>NaN</td>\n      <td>NaN</td>\n      <td>NaN</td>\n      <td>NaN</td>\n      <td>NaN</td>\n      <td>NaN</td>\n      <td>NaN</td>\n      <td>NaN</td>\n      <td>NaN</td>\n      <td>NaN</td>\n      <td>NaN</td>\n      <td>NaN</td>\n      <td>NaN</td>\n      <td>NaN</td>\n      <td>NaN</td>\n      <td>NaN</td>\n      <td>NaN</td>\n      <td>NaN</td>\n      <td>NaN</td>\n      <td>NaN</td>\n      <td>NaN</td>\n      <td>NaN</td>\n      <td>NaN</td>\n      <td>NaN</td>\n      <td>NaN</td>\n      <td>NaN</td>\n      <td>NaN</td>\n      <td>NaN</td>\n      <td>NaN</td>\n      <td>NaN</td>\n      <td>NaN</td>\n      <td>NaN</td>\n    </tr>\n    <tr>\n      <th>2</th>\n      <td>Filet de bœuf</td>\n      <td>NaN</td>\n      <td>NaN</td>\n      <td>NaN</td>\n      <td>Filet de bœuf</td>\n      <td>fr:filet-de-boeuf</td>\n      <td>fr:Filet-de-boeuf</td>\n      <td>NaN</td>\n      <td>NaN</td>\n      <td>NaN</td>\n      <td>NaN</td>\n      <td>NaN</td>\n      <td>France</td>\n      <td>NaN</td>\n      <td>NaN</td>\n      <td>NaN</td>\n      <td>NaN</td>\n      <td>NaN</td>\n      <td>NaN</td>\n      <td>NaN</td>\n      <td>NaN</td>\n      <td>NaN</td>\n      <td>NaN</td>\n      <td>NaN</td>\n      <td>NaN</td>\n      <td>NaN</td>\n      <td>NaN</td>\n      <td>NaN</td>\n      <td>NaN</td>\n      <td>NaN</td>\n      <td>unknown</td>\n      <td>unknown</td>\n      <td>NaN</td>\n      <td>NaN</td>\n      <td>NaN</td>\n      <td>NaN</td>\n      <td>NaN</td>\n      <td>NaN</td>\n      <td>NaN</td>\n      <td>NaN</td>\n      <td>NaN</td>\n      <td>NaN</td>\n      <td>NaN</td>\n      <td>NaN</td>\n      <td>NaN</td>\n      <td>NaN</td>\n      <td>NaN</td>\n      <td>NaN</td>\n      <td>NaN</td>\n      <td>NaN</td>\n      <td>NaN</td>\n      <td>NaN</td>\n      <td>NaN</td>\n      <td>NaN</td>\n      <td>NaN</td>\n      <td>NaN</td>\n    </tr>\n    <tr>\n      <th>3</th>\n      <td>NaN</td>\n      <td>NaN</td>\n      <td>NaN</td>\n      <td>NaN</td>\n      <td>NaN</td>\n      <td>NaN</td>\n      <td>NaN</td>\n      <td>NaN</td>\n      <td>NaN</td>\n      <td>NaN</td>\n      <td>NaN</td>\n      <td>NaN</td>\n      <td>France</td>\n      <td>NaN</td>\n      <td>NaN</td>\n      <td>NaN</td>\n      <td>NaN</td>\n      <td>NaN</td>\n      <td>NaN</td>\n      <td>NaN</td>\n      <td>NaN</td>\n      <td>NaN</td>\n      <td>NaN</td>\n      <td>NaN</td>\n      <td>NaN</td>\n      <td>NaN</td>\n      <td>NaN</td>\n      <td>NaN</td>\n      <td>NaN</td>\n      <td>NaN</td>\n      <td>NaN</td>\n      <td>NaN</td>\n      <td>NaN</td>\n      <td>NaN</td>\n      <td>NaN</td>\n      <td>NaN</td>\n      <td>NaN</td>\n      <td>NaN</td>\n      <td>NaN</td>\n      <td>NaN</td>\n      <td>NaN</td>\n      <td>NaN</td>\n      <td>NaN</td>\n      <td>NaN</td>\n      <td>NaN</td>\n      <td>NaN</td>\n      <td>NaN</td>\n      <td>NaN</td>\n      <td>NaN</td>\n      <td>NaN</td>\n      <td>NaN</td>\n      <td>NaN</td>\n      <td>NaN</td>\n      <td>NaN</td>\n      <td>NaN</td>\n      <td>NaN</td>\n    </tr>\n    <tr>\n      <th>4</th>\n      <td>Naturakrill original</td>\n      <td>NaN</td>\n      <td>Natura4ever</td>\n      <td>natura4ever</td>\n      <td>NaN</td>\n      <td>NaN</td>\n      <td>NaN</td>\n      <td>NaN</td>\n      <td>NaN</td>\n      <td>NaN</td>\n      <td>NaN</td>\n      <td>NaN</td>\n      <td>France</td>\n      <td>NaN</td>\n      <td>NaN</td>\n      <td>NaN</td>\n      <td>NaN</td>\n      <td>NaN</td>\n      <td>NaN</td>\n      <td>NaN</td>\n      <td>NaN</td>\n      <td>NaN</td>\n      <td>NaN</td>\n      <td>NaN</td>\n      <td>NaN</td>\n      <td>NaN</td>\n      <td>NaN</td>\n      <td>NaN</td>\n      <td>NaN</td>\n      <td>NaN</td>\n      <td>NaN</td>\n      <td>NaN</td>\n      <td>NaN</td>\n      <td>NaN</td>\n      <td>NaN</td>\n      <td>NaN</td>\n      <td>NaN</td>\n      <td>NaN</td>\n      <td>NaN</td>\n      <td>NaN</td>\n      <td>NaN</td>\n      <td>NaN</td>\n      <td>NaN</td>\n      <td>NaN</td>\n      <td>NaN</td>\n      <td>NaN</td>\n      <td>NaN</td>\n      <td>NaN</td>\n      <td>NaN</td>\n      <td>NaN</td>\n      <td>NaN</td>\n      <td>NaN</td>\n      <td>NaN</td>\n      <td>NaN</td>\n      <td>NaN</td>\n      <td>NaN</td>\n    </tr>\n  </tbody>\n</table>\n</div>"
     },
     "metadata": {},
     "execution_count": 18
    }
   ],
   "source": [
    "selected_french_food_data.head()"
   ]
  },
  {
   "cell_type": "code",
   "execution_count": 20,
   "metadata": {},
   "outputs": [
    {
     "output_type": "execute_result",
     "data": {
      "text/plain": [
       "6255"
      ]
     },
     "metadata": {},
     "execution_count": 20
    }
   ],
   "source": []
  },
  {
   "cell_type": "code",
   "execution_count": 22,
   "metadata": {},
   "outputs": [
    {
     "output_type": "execute_result",
     "data": {
      "text/plain": [
       "False    123065\n",
       "True       6255\n",
       "Name: product_name, dtype: int64"
      ]
     },
     "metadata": {},
     "execution_count": 22
    }
   ],
   "source": [
    "selected_french_food_data.product_name.isnull().value_counts()"
   ]
  },
  {
   "cell_type": "code",
   "execution_count": 42,
   "metadata": {},
   "outputs": [
    {
     "output_type": "execute_result",
     "data": {
      "text/plain": [
       "False    123065\n",
       "True       6255\n",
       "Name: product_name, dtype: int64"
      ]
     },
     "metadata": {},
     "execution_count": 42
    }
   ],
   "source": [
    "selected_french_food_data.loc[(selected_french_food_data.product_name.isnull()) & (selected_french_food_data.generic_name.notnull())]\n",
    "selected_french_food_data.loc[(selected_french_food_data.product_name.isnull()),'product_name'] = selected_french_food_data['generic_name']\n",
    "selected_french_food_data.product_name.isnull().value_counts()"
   ]
  },
  {
   "cell_type": "code",
   "execution_count": 12,
   "metadata": {},
   "outputs": [
    {
     "output_type": "execute_result",
     "data": {
      "text/plain": [
       "Empty DataFrame\n",
       "Columns: [product_name, generic_name, brands, brands_tags, categories, categories_tags, categories_en, origins, origins_tags, labels, labels_tags, labels_en, countries_en, ingredients_text, allergens, allergens_en, traces, traces_tags, traces_en, additives_n, additives, additives_tags, additives_en, ingredients_from_palm_oil_n, ingredients_from_palm_oil, ingredients_from_palm_oil_tags, ingredients_that_may_be_from_palm_oil_n, ingredients_that_may_be_from_palm_oil, ingredients_that_may_be_from_palm_oil_tags, nutrition_grade_fr, pnns_groups_1, pnns_groups_2, energy_100g, fat_100g, saturated-fat_100g, sugars_100g, -sucrose_100g, -glucose_100g, -fructose_100g, -lactose_100g, -maltose_100g, -maltodextrins_100g, fiber_100g, proteins_100g, salt_100g, sodium_100g, vitamin-d_100g, vitamin-c_100g, calcium_100g, iron_100g, fruits-vegetables-nuts_100g, fruits-vegetables-nuts-estimate_100g, carbon-footprint_100g, nutrition-score-fr_100g, nutrition-score-uk_100g, glycemic-index_100g]\n",
       "Index: []"
      ],
      "text/html": "<div>\n<style scoped>\n    .dataframe tbody tr th:only-of-type {\n        vertical-align: middle;\n    }\n\n    .dataframe tbody tr th {\n        vertical-align: top;\n    }\n\n    .dataframe thead th {\n        text-align: right;\n    }\n</style>\n<table border=\"1\" class=\"dataframe\">\n  <thead>\n    <tr style=\"text-align: right;\">\n      <th></th>\n      <th>product_name</th>\n      <th>generic_name</th>\n      <th>brands</th>\n      <th>brands_tags</th>\n      <th>categories</th>\n      <th>categories_tags</th>\n      <th>categories_en</th>\n      <th>origins</th>\n      <th>origins_tags</th>\n      <th>labels</th>\n      <th>labels_tags</th>\n      <th>labels_en</th>\n      <th>countries_en</th>\n      <th>ingredients_text</th>\n      <th>allergens</th>\n      <th>allergens_en</th>\n      <th>traces</th>\n      <th>traces_tags</th>\n      <th>traces_en</th>\n      <th>additives_n</th>\n      <th>additives</th>\n      <th>additives_tags</th>\n      <th>additives_en</th>\n      <th>ingredients_from_palm_oil_n</th>\n      <th>ingredients_from_palm_oil</th>\n      <th>ingredients_from_palm_oil_tags</th>\n      <th>ingredients_that_may_be_from_palm_oil_n</th>\n      <th>ingredients_that_may_be_from_palm_oil</th>\n      <th>ingredients_that_may_be_from_palm_oil_tags</th>\n      <th>nutrition_grade_fr</th>\n      <th>pnns_groups_1</th>\n      <th>pnns_groups_2</th>\n      <th>energy_100g</th>\n      <th>fat_100g</th>\n      <th>saturated-fat_100g</th>\n      <th>sugars_100g</th>\n      <th>-sucrose_100g</th>\n      <th>-glucose_100g</th>\n      <th>-fructose_100g</th>\n      <th>-lactose_100g</th>\n      <th>-maltose_100g</th>\n      <th>-maltodextrins_100g</th>\n      <th>fiber_100g</th>\n      <th>proteins_100g</th>\n      <th>salt_100g</th>\n      <th>sodium_100g</th>\n      <th>vitamin-d_100g</th>\n      <th>vitamin-c_100g</th>\n      <th>calcium_100g</th>\n      <th>iron_100g</th>\n      <th>fruits-vegetables-nuts_100g</th>\n      <th>fruits-vegetables-nuts-estimate_100g</th>\n      <th>carbon-footprint_100g</th>\n      <th>nutrition-score-fr_100g</th>\n      <th>nutrition-score-uk_100g</th>\n      <th>glycemic-index_100g</th>\n    </tr>\n  </thead>\n  <tbody>\n  </tbody>\n</table>\n</div>"
     },
     "metadata": {},
     "execution_count": 12
    }
   ],
   "source": [
    "selected_french_food_data[(selected_french_food_data.product_name.isnull()) & (selected_french_food_data.generic_name.notnull())]"
   ]
  },
  {
   "cell_type": "code",
   "execution_count": 9,
   "metadata": {},
   "outputs": [],
   "source": [
    "#selected_french_food_data.loc[(selected_french_food_data.product_name.isnull()) & (selected_french_food_data.generic_name.notnull())]\n"
   ]
  },
  {
   "cell_type": "code",
   "execution_count": 13,
   "metadata": {},
   "outputs": [
    {
     "output_type": "execute_result",
     "data": {
      "text/plain": [
       "(129320, 56)"
      ]
     },
     "metadata": {},
     "execution_count": 13
    }
   ],
   "source": [
    "selected_french_food_data.shape"
   ]
  },
  {
   "cell_type": "code",
   "execution_count": null,
   "metadata": {},
   "outputs": [],
   "source": []
  }
 ]
}