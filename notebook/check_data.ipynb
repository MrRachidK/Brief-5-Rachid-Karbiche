{
 "metadata": {
  "language_info": {
   "codemirror_mode": {
    "name": "ipython",
    "version": 3
   },
   "file_extension": ".py",
   "mimetype": "text/x-python",
   "name": "python",
   "nbconvert_exporter": "python",
   "pygments_lexer": "ipython3",
   "version": "3.8.5-final"
  },
  "orig_nbformat": 2,
  "kernelspec": {
   "name": "python3",
   "display_name": "Python 3",
   "language": "python"
  }
 },
 "nbformat": 4,
 "nbformat_minor": 2,
 "cells": [
  {
   "source": [
    "## Importation des différentes librairies dont nous avons besoin et ouverture d'une partie du fichier de données que nous allons étudier"
   ],
   "cell_type": "markdown",
   "metadata": {}
  },
  {
   "cell_type": "code",
   "execution_count": 33,
   "metadata": {
    "tags": []
   },
   "outputs": [
    {
     "output_type": "execute_result",
     "data": {
      "text/plain": [
       "(356027, 163)"
      ]
     },
     "metadata": {},
     "execution_count": 33
    }
   ],
   "source": [
    "# Import all the libraries we need for the brief\n",
    "import pandas as pd\n",
    "import seaborn as sns\n",
    "import numpy as np\n",
    "import matplotlib.pyplot as plt\n",
    "import re\n",
    "\n",
    "# Reading of the TSV file by choosing 10 000 random rows\n",
    "read_food_data = pd.read_csv('/home/apprenant/Documents/Brief-5-Rachid-Karbiche/data/01_raw_data/en.openfoodfacts.org.products.tsv', sep= '\\t', low_memory= False)\n",
    "\n",
    "# Showing all the rows and the columns\n",
    "pd.options.display.max_columns = None\n",
    "pd.options.display.max_rows = None\n",
    "\n",
    "read_food_data.shape"
   ]
  },
  {
   "source": [
    "Comme le fichier de données est assez volumineux, j'ai choisi de faire un premier tri en ne gardant que les entrées ayant comme valeur de countries 'France' car notre étude se concentre sur le marché français."
   ],
   "cell_type": "markdown",
   "metadata": {}
  },
  {
   "cell_type": "code",
   "execution_count": 31,
   "metadata": {},
   "outputs": [
    {
     "output_type": "execute_result",
     "data": {
      "text/plain": [
       "(129320, 163)"
      ]
     },
     "metadata": {},
     "execution_count": 31
    }
   ],
   "source": [
    "# Converting in the countries_en column all values containing 'France' into 'France'\n",
    "read_food_data[\"countries_en\"] = read_food_data[\"countries_en\"].apply(\n",
    "    lambda x: \"France\" if re.match(r\".*(France).*\", str(x), re.IGNORECASE) else x)\n",
    "\n",
    "read_food_data = read_food_data.loc[read_food_data.countries_en == 'France']\n",
    "read_food_data.shape\n",
    "\n",
    "print"
   ]
  },
  {
   "source": [
    "Au lieu des 356 027 entrées initiales, nous avons au final 129 320 entrées dont la valeur du pays est la France."
   ],
   "cell_type": "markdown",
   "metadata": {}
  },
  {
   "cell_type": "code",
   "execution_count": 22,
   "metadata": {},
   "outputs": [],
   "source": [
    "# Saving of the random rows in a new file\n",
    "# random_data = read_food_data.to_csv('/home/apprenant/Documents/Brief-5-Rachid-Karbiche-2/data/01_raw_data/french_openfoodfacts_data.csv', index=False)\n",
    "\n",
    "# Reading of the new TSV file\n",
    "random_food_data = pd.read_csv('/home/apprenant/Documents/Brief-5-Rachid-Karbiche-2/data/01_raw_data/french_openfoodfacts_data.csv', low_memory= False)"
   ]
  },
  {
   "source": [
    "## Examen des différentes colonnes de la base de données"
   ],
   "cell_type": "markdown",
   "metadata": {}
  },
  {
   "cell_type": "code",
   "execution_count": 23,
   "metadata": {},
   "outputs": [
    {
     "output_type": "stream",
     "name": "stdout",
     "text": [
      "(129320, 163)\n------------------------------\n['code' 'url' 'creator' 'created_t' 'created_datetime' 'last_modified_t'\n 'last_modified_datetime' 'product_name' 'generic_name' 'quantity'\n 'packaging' 'packaging_tags' 'brands' 'brands_tags' 'categories'\n 'categories_tags' 'categories_en' 'origins' 'origins_tags'\n 'manufacturing_places' 'manufacturing_places_tags' 'labels' 'labels_tags'\n 'labels_en' 'emb_codes' 'emb_codes_tags' 'first_packaging_code_geo'\n 'cities' 'cities_tags' 'purchase_places' 'stores' 'countries'\n 'countries_tags' 'countries_en' 'ingredients_text' 'allergens'\n 'allergens_en' 'traces' 'traces_tags' 'traces_en' 'serving_size'\n 'no_nutriments' 'additives_n' 'additives' 'additives_tags' 'additives_en'\n 'ingredients_from_palm_oil_n' 'ingredients_from_palm_oil'\n 'ingredients_from_palm_oil_tags'\n 'ingredients_that_may_be_from_palm_oil_n'\n 'ingredients_that_may_be_from_palm_oil'\n 'ingredients_that_may_be_from_palm_oil_tags' 'nutrition_grade_uk'\n 'nutrition_grade_fr' 'pnns_groups_1' 'pnns_groups_2' 'states'\n 'states_tags' 'states_en' 'main_category' 'main_category_en' 'image_url'\n 'image_small_url' 'energy_100g' 'energy-from-fat_100g' 'fat_100g'\n 'saturated-fat_100g' '-butyric-acid_100g' '-caproic-acid_100g'\n '-caprylic-acid_100g' '-capric-acid_100g' '-lauric-acid_100g'\n '-myristic-acid_100g' '-palmitic-acid_100g' '-stearic-acid_100g'\n '-arachidic-acid_100g' '-behenic-acid_100g' '-lignoceric-acid_100g'\n '-cerotic-acid_100g' '-montanic-acid_100g' '-melissic-acid_100g'\n 'monounsaturated-fat_100g' 'polyunsaturated-fat_100g' 'omega-3-fat_100g'\n '-alpha-linolenic-acid_100g' '-eicosapentaenoic-acid_100g'\n '-docosahexaenoic-acid_100g' 'omega-6-fat_100g' '-linoleic-acid_100g'\n '-arachidonic-acid_100g' '-gamma-linolenic-acid_100g'\n '-dihomo-gamma-linolenic-acid_100g' 'omega-9-fat_100g' '-oleic-acid_100g'\n '-elaidic-acid_100g' '-gondoic-acid_100g' '-mead-acid_100g'\n '-erucic-acid_100g' '-nervonic-acid_100g' 'trans-fat_100g'\n 'cholesterol_100g' 'carbohydrates_100g' 'sugars_100g' '-sucrose_100g'\n '-glucose_100g' '-fructose_100g' '-lactose_100g' '-maltose_100g'\n '-maltodextrins_100g' 'starch_100g' 'polyols_100g' 'fiber_100g'\n 'proteins_100g' 'casein_100g' 'serum-proteins_100g' 'nucleotides_100g'\n 'salt_100g' 'sodium_100g' 'alcohol_100g' 'vitamin-a_100g'\n 'beta-carotene_100g' 'vitamin-d_100g' 'vitamin-e_100g' 'vitamin-k_100g'\n 'vitamin-c_100g' 'vitamin-b1_100g' 'vitamin-b2_100g' 'vitamin-pp_100g'\n 'vitamin-b6_100g' 'vitamin-b9_100g' 'folates_100g' 'vitamin-b12_100g'\n 'biotin_100g' 'pantothenic-acid_100g' 'silica_100g' 'bicarbonate_100g'\n 'potassium_100g' 'chloride_100g' 'calcium_100g' 'phosphorus_100g'\n 'iron_100g' 'magnesium_100g' 'zinc_100g' 'copper_100g' 'manganese_100g'\n 'fluoride_100g' 'selenium_100g' 'chromium_100g' 'molybdenum_100g'\n 'iodine_100g' 'caffeine_100g' 'taurine_100g' 'ph_100g'\n 'fruits-vegetables-nuts_100g' 'fruits-vegetables-nuts-estimate_100g'\n 'collagen-meat-protein-ratio_100g' 'cocoa_100g' 'chlorophyl_100g'\n 'carbon-footprint_100g' 'nutrition-score-fr_100g'\n 'nutrition-score-uk_100g' 'glycemic-index_100g' 'water-hardness_100g']\nEmpty DataFrame\nColumns: [cities]\nIndex: []\n"
     ]
    }
   ],
   "source": [
    "print(random_food_data.shape)\n",
    "print('------------------------------')\n",
    "print(random_food_data.columns.values)\n",
    "\n",
    "selected_column = random_food_data[['cities']]\n",
    "selected_column.head()\n",
    "\n",
    "print(selected_column.loc[selected_column.cities.notnull()])"
   ]
  },
  {
   "source": [
    "Dans un premier temps, on constate que nous retrouvons 163 colonnes au total dans la base. Il faut donc procéder à un premier tri en enlevant les variables qui nous sont complètement inutiles dans le cadre de notre projet."
   ],
   "cell_type": "markdown",
   "metadata": {}
  },
  {
   "cell_type": "code",
   "execution_count": 24,
   "metadata": {},
   "outputs": [],
   "source": [
    "# selected_columns = read_food_data[['product_name', 'generic_name', 'quantity', 'brands', 'brands_tags', 'categories', 'categories_tags', 'categories_en', 'origins', 'origins_tags', 'labels', 'labels_tags', 'labels_en', 'countries', 'countries_tags', 'countries_en', 'ingredients_text', 'allergens', 'allergens_en', 'traces', 'traces_tags', 'traces_en', 'additives_n', 'additives', 'additives_tags', 'additives_en', ]]\n",
    "# selected_columns.head()"
   ]
  },
  {
   "source": [
    "Après observation de ces différentes colonnes, on constate que beaucoup sont de la métadonnée (code, url, creator, ...). Elles concernent uniquement la création de la data dans la base."
   ],
   "cell_type": "markdown",
   "metadata": {}
  },
  {
   "cell_type": "code",
   "execution_count": 25,
   "metadata": {},
   "outputs": [
    {
     "output_type": "execute_result",
     "data": {
      "text/plain": [
       "code                                               0\n",
       "url                                                0\n",
       "creator                                            1\n",
       "created_t                                          0\n",
       "created_datetime                                   1\n",
       "last_modified_t                                    0\n",
       "last_modified_datetime                             0\n",
       "product_name                                    6287\n",
       "generic_name                                   87722\n",
       "quantity                                       47200\n",
       "packaging                                      61174\n",
       "packaging_tags                                 61175\n",
       "brands                                         11858\n",
       "brands_tags                                    11873\n",
       "categories                                     52451\n",
       "categories_tags                                52451\n",
       "categories_en                                  52451\n",
       "origins                                       111565\n",
       "origins_tags                                  111575\n",
       "manufacturing_places                           98993\n",
       "manufacturing_places_tags                      98998\n",
       "labels                                         82937\n",
       "labels_tags                                    82902\n",
       "labels_en                                      82902\n",
       "emb_codes                                     103594\n",
       "emb_codes_tags                                103595\n",
       "first_packaging_code_geo                      108748\n",
       "cities                                        129320\n",
       "cities_tags                                   107170\n",
       "purchase_places                                79113\n",
       "stores                                         86393\n",
       "countries                                          0\n",
       "countries_tags                                     0\n",
       "countries_en                                       0\n",
       "ingredients_text                               42603\n",
       "allergens                                      98572\n",
       "allergens_en                                  129320\n",
       "traces                                        106760\n",
       "traces_tags                                   106761\n",
       "traces_en                                     106761\n",
       "serving_size                                   98639\n",
       "no_nutriments                                 129320\n",
       "additives_n                                    42603\n",
       "additives                                      42625\n",
       "additives_tags                                 82691\n",
       "additives_en                                   82691\n",
       "ingredients_from_palm_oil_n                    42603\n",
       "ingredients_from_palm_oil                     129320\n",
       "ingredients_from_palm_oil_tags                123933\n",
       "ingredients_that_may_be_from_palm_oil_n        42603\n",
       "ingredients_that_may_be_from_palm_oil         129320\n",
       "ingredients_that_may_be_from_palm_oil_tags    120526\n",
       "nutrition_grade_uk                            129320\n",
       "nutrition_grade_fr                             35954\n",
       "pnns_groups_1                                  31196\n",
       "pnns_groups_2                                  28504\n",
       "states                                             0\n",
       "states_tags                                        0\n",
       "states_en                                          0\n",
       "main_category                                  52451\n",
       "main_category_en                               52451\n",
       "image_url                                      76447\n",
       "image_small_url                                76447\n",
       "energy_100g                                    32521\n",
       "energy-from-fat_100g                          129283\n",
       "fat_100g                                       48087\n",
       "saturated-fat_100g                             34490\n",
       "-butyric-acid_100g                            129320\n",
       "-caproic-acid_100g                            129320\n",
       "-caprylic-acid_100g                           129320\n",
       "-capric-acid_100g                             129320\n",
       "-lauric-acid_100g                             129319\n",
       "-myristic-acid_100g                           129320\n",
       "-palmitic-acid_100g                           129320\n",
       "-stearic-acid_100g                            129320\n",
       "-arachidic-acid_100g                          129319\n",
       "-behenic-acid_100g                            129320\n",
       "-lignoceric-acid_100g                         129320\n",
       "-cerotic-acid_100g                            129320\n",
       "-montanic-acid_100g                           129319\n",
       "-melissic-acid_100g                           129320\n",
       "monounsaturated-fat_100g                      128008\n",
       "polyunsaturated-fat_100g                      127989\n",
       "omega-3-fat_100g                              128588\n",
       "-alpha-linolenic-acid_100g                    129134\n",
       "-eicosapentaenoic-acid_100g                   129300\n",
       "-docosahexaenoic-acid_100g                    129276\n",
       "omega-6-fat_100g                              129161\n",
       "-linoleic-acid_100g                           129168\n",
       "-arachidonic-acid_100g                        129311\n",
       "-gamma-linolenic-acid_100g                    129319\n",
       "-dihomo-gamma-linolenic-acid_100g             129320\n",
       "omega-9-fat_100g                              129297\n",
       "-oleic-acid_100g                              129311\n",
       "-elaidic-acid_100g                            129320\n",
       "-gondoic-acid_100g                            129320\n",
       "-mead-acid_100g                               129320\n",
       "-erucic-acid_100g                             129320\n",
       "-nervonic-acid_100g                           129320\n",
       "trans-fat_100g                                128830\n",
       "cholesterol_100g                              128841\n",
       "carbohydrates_100g                             48496\n",
       "sugars_100g                                    34379\n",
       "-sucrose_100g                                 129307\n",
       "-glucose_100g                                 129313\n",
       "-fructose_100g                                129293\n",
       "-lactose_100g                                 129169\n",
       "-maltose_100g                                 129315\n",
       "-maltodextrins_100g                           129309\n",
       "starch_100g                                   129133\n",
       "polyols_100g                                  128988\n",
       "fiber_100g                                     64753\n",
       "proteins_100g                                  32783\n",
       "casein_100g                                   129291\n",
       "serum-proteins_100g                           129304\n",
       "nucleotides_100g                              129311\n",
       "salt_100g                                      34329\n",
       "sodium_100g                                    34333\n",
       "alcohol_100g                                  126549\n",
       "vitamin-a_100g                                128634\n",
       "beta-carotene_100g                            129307\n",
       "vitamin-d_100g                                128649\n",
       "vitamin-e_100g                                128430\n",
       "vitamin-k_100g                                129241\n",
       "vitamin-c_100g                                127849\n",
       "vitamin-b1_100g                               128367\n",
       "vitamin-b2_100g                               128595\n",
       "vitamin-pp_100g                               128537\n",
       "vitamin-b6_100g                               128491\n",
       "vitamin-b9_100g                               128563\n",
       "folates_100g                                  129318\n",
       "vitamin-b12_100g                              128707\n",
       "biotin_100g                                   129113\n",
       "pantothenic-acid_100g                         128860\n",
       "silica_100g                                   129283\n",
       "bicarbonate_100g                              129251\n",
       "potassium_100g                                128911\n",
       "chloride_100g                                 129172\n",
       "calcium_100g                                  126751\n",
       "phosphorus_100g                               128701\n",
       "iron_100g                                     127975\n",
       "magnesium_100g                                128402\n",
       "zinc_100g                                     129065\n",
       "copper_100g                                   129192\n",
       "manganese_100g                                129201\n",
       "fluoride_100g                                 129235\n",
       "selenium_100g                                 129220\n",
       "chromium_100g                                 129311\n",
       "molybdenum_100g                               129315\n",
       "iodine_100g                                   129188\n",
       "caffeine_100g                                 129280\n",
       "taurine_100g                                  129289\n",
       "ph_100g                                       129278\n",
       "fruits-vegetables-nuts_100g                   126174\n",
       "fruits-vegetables-nuts-estimate_100g          128935\n",
       "collagen-meat-protein-ratio_100g              129139\n",
       "cocoa_100g                                    128232\n",
       "chlorophyl_100g                               129320\n",
       "carbon-footprint_100g                         129135\n",
       "nutrition-score-fr_100g                        35954\n",
       "nutrition-score-uk_100g                        35954\n",
       "glycemic-index_100g                           129320\n",
       "water-hardness_100g                           129320\n",
       "dtype: int64"
      ]
     },
     "metadata": {},
     "execution_count": 25
    }
   ],
   "source": [
    "random_food_data.isnull().sum(axis = 0)"
   ]
  },
  {
   "cell_type": "code",
   "execution_count": 26,
   "metadata": {},
   "outputs": [
    {
     "output_type": "error",
     "ename": "NameError",
     "evalue": "name 'selected_data' is not defined",
     "traceback": [
      "\u001b[0;31m---------------------------------------------------------------------------\u001b[0m",
      "\u001b[0;31mNameError\u001b[0m                                 Traceback (most recent call last)",
      "\u001b[0;32m<ipython-input-26-dfcbcf7c9c04>\u001b[0m in \u001b[0;36m<module>\u001b[0;34m\u001b[0m\n\u001b[0;32m----> 1\u001b[0;31m \u001b[0mselected_data_corr\u001b[0m \u001b[0;34m=\u001b[0m \u001b[0mselected_data\u001b[0m\u001b[0;34m.\u001b[0m\u001b[0mcorr\u001b[0m\u001b[0;34m(\u001b[0m\u001b[0;34m)\u001b[0m\u001b[0;34m\u001b[0m\u001b[0;34m\u001b[0m\u001b[0m\n\u001b[0m\u001b[1;32m      2\u001b[0m \u001b[0mf\u001b[0m\u001b[0;34m,\u001b[0m\u001b[0max\u001b[0m\u001b[0;34m=\u001b[0m\u001b[0mplt\u001b[0m\u001b[0;34m.\u001b[0m\u001b[0msubplots\u001b[0m\u001b[0;34m(\u001b[0m\u001b[0mfigsize\u001b[0m\u001b[0;34m=\u001b[0m\u001b[0;34m(\u001b[0m\u001b[0;36m10\u001b[0m\u001b[0;34m,\u001b[0m\u001b[0;36m7\u001b[0m\u001b[0;34m)\u001b[0m\u001b[0;34m)\u001b[0m\u001b[0;34m\u001b[0m\u001b[0;34m\u001b[0m\u001b[0m\n\u001b[1;32m      3\u001b[0m \u001b[0msns\u001b[0m\u001b[0;34m.\u001b[0m\u001b[0mheatmap\u001b[0m\u001b[0;34m(\u001b[0m\u001b[0mselected_data_corr\u001b[0m\u001b[0;34m,\u001b[0m \u001b[0mcmap\u001b[0m\u001b[0;34m=\u001b[0m\u001b[0;34m'viridis'\u001b[0m\u001b[0;34m)\u001b[0m\u001b[0;34m\u001b[0m\u001b[0;34m\u001b[0m\u001b[0m\n\u001b[1;32m      4\u001b[0m plt.title(\"Correlation between features\", \n\u001b[1;32m      5\u001b[0m           \u001b[0mweight\u001b[0m\u001b[0;34m=\u001b[0m\u001b[0;34m'bold'\u001b[0m\u001b[0;34m,\u001b[0m\u001b[0;34m\u001b[0m\u001b[0;34m\u001b[0m\u001b[0m\n",
      "\u001b[0;31mNameError\u001b[0m: name 'selected_data' is not defined"
     ]
    }
   ],
   "source": [
    "selected_data_corr = selected_data.corr()\n",
    "f,ax=plt.subplots(figsize=(10,7))\n",
    "sns.heatmap(selected_data_corr, cmap='viridis')\n",
    "plt.title(\"Correlation between features\", \n",
    "          weight='bold', \n",
    "          fontsize=18)\n",
    "plt.xticks(weight='bold')\n",
    "plt.yticks(weight='bold')\n",
    "\n",
    "plt.show()"
   ]
  },
  {
   "cell_type": "code",
   "execution_count": null,
   "metadata": {},
   "outputs": [],
   "source": []
  }
 ]
}